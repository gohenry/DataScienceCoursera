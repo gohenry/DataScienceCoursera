{
  "nbformat": 4,
  "nbformat_minor": 0,
  "metadata": {
    "colab": {
      "name": "ArtAuction_7pm.ipynb",
      "provenance": [],
      "collapsed_sections": [],
      "include_colab_link": true
    },
    "kernelspec": {
      "name": "python3",
      "display_name": "Python 3"
    }
  },
  "cells": [
    {
      "cell_type": "markdown",
      "metadata": {
        "id": "view-in-github",
        "colab_type": "text"
      },
      "source": [
        "<a href=\"https://colab.research.google.com/github/gohenry/DataScienceCoursera/blob/master/ArtAuction_7pm.ipynb\" target=\"_parent\"><img src=\"https://colab.research.google.com/assets/colab-badge.svg\" alt=\"Open In Colab\"/></a>"
      ]
    },
    {
      "cell_type": "code",
      "metadata": {
        "id": "vQehzGIK_d1T",
        "colab_type": "code",
        "outputId": "c34252f7-3eca-4ab1-85da-4c723a363b8f",
        "colab": {
          "base_uri": "https://localhost:8080/",
          "height": 122
        }
      },
      "source": [
        "from google.colab import drive\n",
        "drive.mount ('/content/drive', force_remount = True)"
      ],
      "execution_count": 5,
      "outputs": [
        {
          "output_type": "stream",
          "text": [
            "Go to this URL in a browser: https://accounts.google.com/o/oauth2/auth?client_id=947318989803-6bn6qk8qdgf4n4g3pfee6491hc0brc4i.apps.googleusercontent.com&redirect_uri=urn%3Aietf%3Awg%3Aoauth%3A2.0%3Aoob&scope=email%20https%3A%2F%2Fwww.googleapis.com%2Fauth%2Fdocs.test%20https%3A%2F%2Fwww.googleapis.com%2Fauth%2Fdrive%20https%3A%2F%2Fwww.googleapis.com%2Fauth%2Fdrive.photos.readonly%20https%3A%2F%2Fwww.googleapis.com%2Fauth%2Fpeopleapi.readonly&response_type=code\n",
            "\n",
            "Enter your authorization code:\n",
            "··········\n",
            "Mounted at /content/drive\n"
          ],
          "name": "stdout"
        }
      ]
    },
    {
      "cell_type": "code",
      "metadata": {
        "id": "MzosBaOfNRIO",
        "colab_type": "code",
        "outputId": "133f4916-62db-4b47-8f45-0ca5fe8c556b",
        "colab": {
          "base_uri": "https://localhost:8080/",
          "height": 34
        }
      },
      "source": [
        "cd drive/My Drive"
      ],
      "execution_count": 7,
      "outputs": [
        {
          "output_type": "stream",
          "text": [
            "/content/drive/My Drive\n"
          ],
          "name": "stdout"
        }
      ]
    },
    {
      "cell_type": "code",
      "metadata": {
        "id": "v3bFX7bd_jIk",
        "colab_type": "code",
        "colab": {}
      },
      "source": [
        "from __future__ import absolute_import, division, print_function, unicode_literals\n",
        "import functools\n",
        "\n",
        "import numpy as np\n",
        "import tensorflow as tf\n",
        "import pandas as pd\n"
      ],
      "execution_count": 0,
      "outputs": []
    },
    {
      "cell_type": "code",
      "metadata": {
        "id": "xxpxKtnT_wzt",
        "colab_type": "code",
        "outputId": "20fb58fb-7070-4e72-b2f9-2c9cc930c2ea",
        "colab": {
          "base_uri": "https://localhost:8080/",
          "height": 419
        }
      },
      "source": [
        "!pip install -q xlrd\n",
        "\n",
        "import pandas as pd\n",
        "df = pd.read_excel('result_2017_2018.xlsx')\n",
        "df\n"
      ],
      "execution_count": 19,
      "outputs": [
        {
          "output_type": "execute_result",
          "data": {
            "text/html": [
              "<div>\n",
              "<style scoped>\n",
              "    .dataframe tbody tr th:only-of-type {\n",
              "        vertical-align: middle;\n",
              "    }\n",
              "\n",
              "    .dataframe tbody tr th {\n",
              "        vertical-align: top;\n",
              "    }\n",
              "\n",
              "    .dataframe thead th {\n",
              "        text-align: right;\n",
              "    }\n",
              "</style>\n",
              "<table border=\"1\" class=\"dataframe\">\n",
              "  <thead>\n",
              "    <tr style=\"text-align: right;\">\n",
              "      <th></th>\n",
              "      <th>num_author</th>\n",
              "      <th>creation_year</th>\n",
              "      <th>height</th>\n",
              "      <th>width</th>\n",
              "      <th>estimate_low</th>\n",
              "      <th>estimate_high</th>\n",
              "      <th>auction_year</th>\n",
              "      <th>artist_birth</th>\n",
              "      <th>artist_death</th>\n",
              "      <th>hammer price</th>\n",
              "    </tr>\n",
              "  </thead>\n",
              "  <tbody>\n",
              "    <tr>\n",
              "      <th>0</th>\n",
              "      <td>1</td>\n",
              "      <td>1983.0</td>\n",
              "      <td>14.0</td>\n",
              "      <td>10.0</td>\n",
              "      <td>80669.0</td>\n",
              "      <td>141170.0</td>\n",
              "      <td>2018.0</td>\n",
              "      <td>1928.0</td>\n",
              "      <td>1987.0</td>\n",
              "      <td>161338.0</td>\n",
              "    </tr>\n",
              "    <tr>\n",
              "      <th>1</th>\n",
              "      <td>1</td>\n",
              "      <td>1982.0</td>\n",
              "      <td>14.0</td>\n",
              "      <td>11.0</td>\n",
              "      <td>92678.0</td>\n",
              "      <td>139017.0</td>\n",
              "      <td>2018.0</td>\n",
              "      <td>1928.0</td>\n",
              "      <td>1987.0</td>\n",
              "      <td>NaN</td>\n",
              "    </tr>\n",
              "    <tr>\n",
              "      <th>2</th>\n",
              "      <td>1</td>\n",
              "      <td>1984.0</td>\n",
              "      <td>20.0</td>\n",
              "      <td>16.0</td>\n",
              "      <td>91964.0</td>\n",
              "      <td>118239.0</td>\n",
              "      <td>2018.0</td>\n",
              "      <td>1928.0</td>\n",
              "      <td>1987.0</td>\n",
              "      <td>128750.0</td>\n",
              "    </tr>\n",
              "    <tr>\n",
              "      <th>3</th>\n",
              "      <td>1</td>\n",
              "      <td>1982.0</td>\n",
              "      <td>8.0</td>\n",
              "      <td>16.0</td>\n",
              "      <td>131377.0</td>\n",
              "      <td>197066.0</td>\n",
              "      <td>2018.0</td>\n",
              "      <td>1928.0</td>\n",
              "      <td>1987.0</td>\n",
              "      <td>105102.0</td>\n",
              "    </tr>\n",
              "    <tr>\n",
              "      <th>4</th>\n",
              "      <td>1</td>\n",
              "      <td>1982.0</td>\n",
              "      <td>8.0</td>\n",
              "      <td>16.0</td>\n",
              "      <td>131378.0</td>\n",
              "      <td>197067.0</td>\n",
              "      <td>2018.0</td>\n",
              "      <td>1928.0</td>\n",
              "      <td>1987.0</td>\n",
              "      <td>NaN</td>\n",
              "    </tr>\n",
              "    <tr>\n",
              "      <th>...</th>\n",
              "      <td>...</td>\n",
              "      <td>...</td>\n",
              "      <td>...</td>\n",
              "      <td>...</td>\n",
              "      <td>...</td>\n",
              "      <td>...</td>\n",
              "      <td>...</td>\n",
              "      <td>...</td>\n",
              "      <td>...</td>\n",
              "      <td>...</td>\n",
              "    </tr>\n",
              "    <tr>\n",
              "      <th>1453</th>\n",
              "      <td>100</td>\n",
              "      <td>1999.0</td>\n",
              "      <td>8.0</td>\n",
              "      <td>66.0</td>\n",
              "      <td>2117691.0</td>\n",
              "      <td>2911825.0</td>\n",
              "      <td>2018.0</td>\n",
              "      <td>1923.0</td>\n",
              "      <td>2015.0</td>\n",
              "      <td>2183869.0</td>\n",
              "    </tr>\n",
              "    <tr>\n",
              "      <th>1454</th>\n",
              "      <td>100</td>\n",
              "      <td>2012.0</td>\n",
              "      <td>6.0</td>\n",
              "      <td>120.0</td>\n",
              "      <td>1800000.0</td>\n",
              "      <td>2500000.0</td>\n",
              "      <td>2018.0</td>\n",
              "      <td>1923.0</td>\n",
              "      <td>2015.0</td>\n",
              "      <td>1900000.0</td>\n",
              "    </tr>\n",
              "    <tr>\n",
              "      <th>1455</th>\n",
              "      <td>100</td>\n",
              "      <td>1986.0</td>\n",
              "      <td>2.0</td>\n",
              "      <td>94.0</td>\n",
              "      <td>3500000.0</td>\n",
              "      <td>4500000.0</td>\n",
              "      <td>2018.0</td>\n",
              "      <td>1923.0</td>\n",
              "      <td>2015.0</td>\n",
              "      <td>4343000.0</td>\n",
              "    </tr>\n",
              "    <tr>\n",
              "      <th>1456</th>\n",
              "      <td>100</td>\n",
              "      <td>1989.0</td>\n",
              "      <td>76.0</td>\n",
              "      <td>114.0</td>\n",
              "      <td>3000000.0</td>\n",
              "      <td>5000000.0</td>\n",
              "      <td>2017.0</td>\n",
              "      <td>1923.0</td>\n",
              "      <td>2015.0</td>\n",
              "      <td>3300000.0</td>\n",
              "    </tr>\n",
              "    <tr>\n",
              "      <th>1457</th>\n",
              "      <td>100</td>\n",
              "      <td>1978.0</td>\n",
              "      <td>2.0</td>\n",
              "      <td>52.0</td>\n",
              "      <td>1500000.0</td>\n",
              "      <td>2500000.0</td>\n",
              "      <td>2017.0</td>\n",
              "      <td>1923.0</td>\n",
              "      <td>2015.0</td>\n",
              "      <td>1500000.0</td>\n",
              "    </tr>\n",
              "  </tbody>\n",
              "</table>\n",
              "<p>1458 rows × 10 columns</p>\n",
              "</div>"
            ],
            "text/plain": [
              "      num_author  creation_year  ...  artist_death  hammer price\n",
              "0              1         1983.0  ...        1987.0      161338.0\n",
              "1              1         1982.0  ...        1987.0           NaN\n",
              "2              1         1984.0  ...        1987.0      128750.0\n",
              "3              1         1982.0  ...        1987.0      105102.0\n",
              "4              1         1982.0  ...        1987.0           NaN\n",
              "...          ...            ...  ...           ...           ...\n",
              "1453         100         1999.0  ...        2015.0     2183869.0\n",
              "1454         100         2012.0  ...        2015.0     1900000.0\n",
              "1455         100         1986.0  ...        2015.0     4343000.0\n",
              "1456         100         1989.0  ...        2015.0     3300000.0\n",
              "1457         100         1978.0  ...        2015.0     1500000.0\n",
              "\n",
              "[1458 rows x 10 columns]"
            ]
          },
          "metadata": {
            "tags": []
          },
          "execution_count": 19
        }
      ]
    },
    {
      "cell_type": "code",
      "metadata": {
        "id": "GnjsOwGtfsjj",
        "colab_type": "code",
        "colab": {}
      },
      "source": [
        "df=df.drop(columns=['artist_death'])"
      ],
      "execution_count": 0,
      "outputs": []
    },
    {
      "cell_type": "code",
      "metadata": {
        "id": "-cRDwRTDeeQ1",
        "colab_type": "code",
        "colab": {}
      },
      "source": [
        "df = df.apply(pd.to_numeric, errors='coerce')\n",
        "df = df.dropna()\n"
      ],
      "execution_count": 0,
      "outputs": []
    },
    {
      "cell_type": "code",
      "metadata": {
        "id": "Ed3oJ6Dqezwq",
        "colab_type": "code",
        "outputId": "8d6578bd-3f3f-405f-f01a-a3d56ea0056e",
        "colab": {
          "base_uri": "https://localhost:8080/",
          "height": 419
        }
      },
      "source": [
        "df"
      ],
      "execution_count": 22,
      "outputs": [
        {
          "output_type": "execute_result",
          "data": {
            "text/html": [
              "<div>\n",
              "<style scoped>\n",
              "    .dataframe tbody tr th:only-of-type {\n",
              "        vertical-align: middle;\n",
              "    }\n",
              "\n",
              "    .dataframe tbody tr th {\n",
              "        vertical-align: top;\n",
              "    }\n",
              "\n",
              "    .dataframe thead th {\n",
              "        text-align: right;\n",
              "    }\n",
              "</style>\n",
              "<table border=\"1\" class=\"dataframe\">\n",
              "  <thead>\n",
              "    <tr style=\"text-align: right;\">\n",
              "      <th></th>\n",
              "      <th>num_author</th>\n",
              "      <th>creation_year</th>\n",
              "      <th>height</th>\n",
              "      <th>width</th>\n",
              "      <th>estimate_low</th>\n",
              "      <th>estimate_high</th>\n",
              "      <th>auction_year</th>\n",
              "      <th>artist_birth</th>\n",
              "      <th>hammer price</th>\n",
              "    </tr>\n",
              "  </thead>\n",
              "  <tbody>\n",
              "    <tr>\n",
              "      <th>0</th>\n",
              "      <td>1</td>\n",
              "      <td>1983.0</td>\n",
              "      <td>14.0</td>\n",
              "      <td>10.0</td>\n",
              "      <td>80669.0</td>\n",
              "      <td>141170.0</td>\n",
              "      <td>2018.0</td>\n",
              "      <td>1928.0</td>\n",
              "      <td>161338.0</td>\n",
              "    </tr>\n",
              "    <tr>\n",
              "      <th>2</th>\n",
              "      <td>1</td>\n",
              "      <td>1984.0</td>\n",
              "      <td>20.0</td>\n",
              "      <td>16.0</td>\n",
              "      <td>91964.0</td>\n",
              "      <td>118239.0</td>\n",
              "      <td>2018.0</td>\n",
              "      <td>1928.0</td>\n",
              "      <td>128750.0</td>\n",
              "    </tr>\n",
              "    <tr>\n",
              "      <th>3</th>\n",
              "      <td>1</td>\n",
              "      <td>1982.0</td>\n",
              "      <td>8.0</td>\n",
              "      <td>16.0</td>\n",
              "      <td>131377.0</td>\n",
              "      <td>197066.0</td>\n",
              "      <td>2018.0</td>\n",
              "      <td>1928.0</td>\n",
              "      <td>105102.0</td>\n",
              "    </tr>\n",
              "    <tr>\n",
              "      <th>5</th>\n",
              "      <td>1</td>\n",
              "      <td>1982.0</td>\n",
              "      <td>6.0</td>\n",
              "      <td>20.0</td>\n",
              "      <td>91964.0</td>\n",
              "      <td>131378.0</td>\n",
              "      <td>2018.0</td>\n",
              "      <td>1928.0</td>\n",
              "      <td>72258.0</td>\n",
              "    </tr>\n",
              "    <tr>\n",
              "      <th>6</th>\n",
              "      <td>1</td>\n",
              "      <td>1986.0</td>\n",
              "      <td>22.0</td>\n",
              "      <td>22.0</td>\n",
              "      <td>131377.0</td>\n",
              "      <td>197066.0</td>\n",
              "      <td>2018.0</td>\n",
              "      <td>1928.0</td>\n",
              "      <td>170791.0</td>\n",
              "    </tr>\n",
              "    <tr>\n",
              "      <th>...</th>\n",
              "      <td>...</td>\n",
              "      <td>...</td>\n",
              "      <td>...</td>\n",
              "      <td>...</td>\n",
              "      <td>...</td>\n",
              "      <td>...</td>\n",
              "      <td>...</td>\n",
              "      <td>...</td>\n",
              "      <td>...</td>\n",
              "    </tr>\n",
              "    <tr>\n",
              "      <th>1453</th>\n",
              "      <td>100</td>\n",
              "      <td>1999.0</td>\n",
              "      <td>8.0</td>\n",
              "      <td>66.0</td>\n",
              "      <td>2117691.0</td>\n",
              "      <td>2911825.0</td>\n",
              "      <td>2018.0</td>\n",
              "      <td>1923.0</td>\n",
              "      <td>2183869.0</td>\n",
              "    </tr>\n",
              "    <tr>\n",
              "      <th>1454</th>\n",
              "      <td>100</td>\n",
              "      <td>2012.0</td>\n",
              "      <td>6.0</td>\n",
              "      <td>120.0</td>\n",
              "      <td>1800000.0</td>\n",
              "      <td>2500000.0</td>\n",
              "      <td>2018.0</td>\n",
              "      <td>1923.0</td>\n",
              "      <td>1900000.0</td>\n",
              "    </tr>\n",
              "    <tr>\n",
              "      <th>1455</th>\n",
              "      <td>100</td>\n",
              "      <td>1986.0</td>\n",
              "      <td>2.0</td>\n",
              "      <td>94.0</td>\n",
              "      <td>3500000.0</td>\n",
              "      <td>4500000.0</td>\n",
              "      <td>2018.0</td>\n",
              "      <td>1923.0</td>\n",
              "      <td>4343000.0</td>\n",
              "    </tr>\n",
              "    <tr>\n",
              "      <th>1456</th>\n",
              "      <td>100</td>\n",
              "      <td>1989.0</td>\n",
              "      <td>76.0</td>\n",
              "      <td>114.0</td>\n",
              "      <td>3000000.0</td>\n",
              "      <td>5000000.0</td>\n",
              "      <td>2017.0</td>\n",
              "      <td>1923.0</td>\n",
              "      <td>3300000.0</td>\n",
              "    </tr>\n",
              "    <tr>\n",
              "      <th>1457</th>\n",
              "      <td>100</td>\n",
              "      <td>1978.0</td>\n",
              "      <td>2.0</td>\n",
              "      <td>52.0</td>\n",
              "      <td>1500000.0</td>\n",
              "      <td>2500000.0</td>\n",
              "      <td>2017.0</td>\n",
              "      <td>1923.0</td>\n",
              "      <td>1500000.0</td>\n",
              "    </tr>\n",
              "  </tbody>\n",
              "</table>\n",
              "<p>1101 rows × 9 columns</p>\n",
              "</div>"
            ],
            "text/plain": [
              "      num_author  creation_year  ...  artist_birth  hammer price\n",
              "0              1         1983.0  ...        1928.0      161338.0\n",
              "2              1         1984.0  ...        1928.0      128750.0\n",
              "3              1         1982.0  ...        1928.0      105102.0\n",
              "5              1         1982.0  ...        1928.0       72258.0\n",
              "6              1         1986.0  ...        1928.0      170791.0\n",
              "...          ...            ...  ...           ...           ...\n",
              "1453         100         1999.0  ...        1923.0     2183869.0\n",
              "1454         100         2012.0  ...        1923.0     1900000.0\n",
              "1455         100         1986.0  ...        1923.0     4343000.0\n",
              "1456         100         1989.0  ...        1923.0     3300000.0\n",
              "1457         100         1978.0  ...        1923.0     1500000.0\n",
              "\n",
              "[1101 rows x 9 columns]"
            ]
          },
          "metadata": {
            "tags": []
          },
          "execution_count": 22
        }
      ]
    },
    {
      "cell_type": "code",
      "metadata": {
        "id": "lTKBTUESI-L0",
        "colab_type": "code",
        "outputId": "29f331cb-ae24-4a78-c1cb-47dbae99e2aa",
        "colab": {
          "base_uri": "https://localhost:8080/",
          "height": 473
        }
      },
      "source": [
        "# remove rows with NaN on column 'hammer price'\n",
        "#df = df[np.isfinite(df['hammer price'])]\n",
        "#df = df[np.isfinite(df['creation_year'])]\n",
        "#df = df[np.isfinite(df['estimate_low'])]\n",
        "#df = df[np.isfinite(df['auction_year'])]\n",
        "#df = df[np.isfinite(df['artist_birth'])]\n",
        "#df"
      ],
      "execution_count": 0,
      "outputs": [
        {
          "output_type": "execute_result",
          "data": {
            "text/html": [
              "<div>\n",
              "<style scoped>\n",
              "    .dataframe tbody tr th:only-of-type {\n",
              "        vertical-align: middle;\n",
              "    }\n",
              "\n",
              "    .dataframe tbody tr th {\n",
              "        vertical-align: top;\n",
              "    }\n",
              "\n",
              "    .dataframe thead th {\n",
              "        text-align: right;\n",
              "    }\n",
              "</style>\n",
              "<table border=\"1\" class=\"dataframe\">\n",
              "  <thead>\n",
              "    <tr style=\"text-align: right;\">\n",
              "      <th></th>\n",
              "      <th>num_author</th>\n",
              "      <th>creation_year</th>\n",
              "      <th>height</th>\n",
              "      <th>width</th>\n",
              "      <th>estimate_low</th>\n",
              "      <th>estimate_high</th>\n",
              "      <th>auction_year</th>\n",
              "      <th>artist_birth</th>\n",
              "      <th>artist_death</th>\n",
              "      <th>hammer price</th>\n",
              "      <th>log hammer price</th>\n",
              "      <th>binned</th>\n",
              "    </tr>\n",
              "  </thead>\n",
              "  <tbody>\n",
              "    <tr>\n",
              "      <th>0</th>\n",
              "      <td>1</td>\n",
              "      <td>1983.0</td>\n",
              "      <td>14.0</td>\n",
              "      <td>10.0</td>\n",
              "      <td>80669.0</td>\n",
              "      <td>141170.0</td>\n",
              "      <td>2018.0</td>\n",
              "      <td>1928.0</td>\n",
              "      <td>1987.0</td>\n",
              "      <td>161338.0</td>\n",
              "      <td>11.991257</td>\n",
              "      <td>12</td>\n",
              "    </tr>\n",
              "    <tr>\n",
              "      <th>2</th>\n",
              "      <td>1</td>\n",
              "      <td>1984.0</td>\n",
              "      <td>20.0</td>\n",
              "      <td>16.0</td>\n",
              "      <td>91964.0</td>\n",
              "      <td>118239.0</td>\n",
              "      <td>2018.0</td>\n",
              "      <td>1928.0</td>\n",
              "      <td>1987.0</td>\n",
              "      <td>128750.0</td>\n",
              "      <td>11.765628</td>\n",
              "      <td>12</td>\n",
              "    </tr>\n",
              "    <tr>\n",
              "      <th>3</th>\n",
              "      <td>1</td>\n",
              "      <td>1982.0</td>\n",
              "      <td>8.0</td>\n",
              "      <td>16.0</td>\n",
              "      <td>131377.0</td>\n",
              "      <td>197066.0</td>\n",
              "      <td>2018.0</td>\n",
              "      <td>1928.0</td>\n",
              "      <td>1987.0</td>\n",
              "      <td>105102.0</td>\n",
              "      <td>11.562687</td>\n",
              "      <td>12</td>\n",
              "    </tr>\n",
              "    <tr>\n",
              "      <th>5</th>\n",
              "      <td>1</td>\n",
              "      <td>1982.0</td>\n",
              "      <td>6.0</td>\n",
              "      <td>20.0</td>\n",
              "      <td>91964.0</td>\n",
              "      <td>131378.0</td>\n",
              "      <td>2018.0</td>\n",
              "      <td>1928.0</td>\n",
              "      <td>1987.0</td>\n",
              "      <td>72258.0</td>\n",
              "      <td>11.187998</td>\n",
              "      <td>12</td>\n",
              "    </tr>\n",
              "    <tr>\n",
              "      <th>6</th>\n",
              "      <td>1</td>\n",
              "      <td>1986.0</td>\n",
              "      <td>22.0</td>\n",
              "      <td>22.0</td>\n",
              "      <td>131377.0</td>\n",
              "      <td>197066.0</td>\n",
              "      <td>2018.0</td>\n",
              "      <td>1928.0</td>\n",
              "      <td>1987.0</td>\n",
              "      <td>170791.0</td>\n",
              "      <td>12.048196</td>\n",
              "      <td>14</td>\n",
              "    </tr>\n",
              "    <tr>\n",
              "      <th>...</th>\n",
              "      <td>...</td>\n",
              "      <td>...</td>\n",
              "      <td>...</td>\n",
              "      <td>...</td>\n",
              "      <td>...</td>\n",
              "      <td>...</td>\n",
              "      <td>...</td>\n",
              "      <td>...</td>\n",
              "      <td>...</td>\n",
              "      <td>...</td>\n",
              "      <td>...</td>\n",
              "      <td>...</td>\n",
              "    </tr>\n",
              "    <tr>\n",
              "      <th>1453</th>\n",
              "      <td>100</td>\n",
              "      <td>1999.0</td>\n",
              "      <td>8.0</td>\n",
              "      <td>66.0</td>\n",
              "      <td>2117691.0</td>\n",
              "      <td>2911825.0</td>\n",
              "      <td>2018.0</td>\n",
              "      <td>1923.0</td>\n",
              "      <td>2015.0</td>\n",
              "      <td>2183869.0</td>\n",
              "      <td>14.596609</td>\n",
              "      <td>16</td>\n",
              "    </tr>\n",
              "    <tr>\n",
              "      <th>1454</th>\n",
              "      <td>100</td>\n",
              "      <td>2012.0</td>\n",
              "      <td>6.0</td>\n",
              "      <td>120.0</td>\n",
              "      <td>1800000.0</td>\n",
              "      <td>2500000.0</td>\n",
              "      <td>2018.0</td>\n",
              "      <td>1923.0</td>\n",
              "      <td>2015.0</td>\n",
              "      <td>1900000.0</td>\n",
              "      <td>14.457364</td>\n",
              "      <td>16</td>\n",
              "    </tr>\n",
              "    <tr>\n",
              "      <th>1455</th>\n",
              "      <td>100</td>\n",
              "      <td>1986.0</td>\n",
              "      <td>2.0</td>\n",
              "      <td>94.0</td>\n",
              "      <td>3500000.0</td>\n",
              "      <td>4500000.0</td>\n",
              "      <td>2018.0</td>\n",
              "      <td>1923.0</td>\n",
              "      <td>2015.0</td>\n",
              "      <td>4343000.0</td>\n",
              "      <td>15.284076</td>\n",
              "      <td>16</td>\n",
              "    </tr>\n",
              "    <tr>\n",
              "      <th>1456</th>\n",
              "      <td>100</td>\n",
              "      <td>1989.0</td>\n",
              "      <td>76.0</td>\n",
              "      <td>114.0</td>\n",
              "      <td>3000000.0</td>\n",
              "      <td>5000000.0</td>\n",
              "      <td>2017.0</td>\n",
              "      <td>1923.0</td>\n",
              "      <td>2015.0</td>\n",
              "      <td>3300000.0</td>\n",
              "      <td>15.009433</td>\n",
              "      <td>16</td>\n",
              "    </tr>\n",
              "    <tr>\n",
              "      <th>1457</th>\n",
              "      <td>100</td>\n",
              "      <td>1978.0</td>\n",
              "      <td>2.0</td>\n",
              "      <td>52.0</td>\n",
              "      <td>1500000.0</td>\n",
              "      <td>2500000.0</td>\n",
              "      <td>2017.0</td>\n",
              "      <td>1923.0</td>\n",
              "      <td>2015.0</td>\n",
              "      <td>1500000.0</td>\n",
              "      <td>14.220976</td>\n",
              "      <td>16</td>\n",
              "    </tr>\n",
              "  </tbody>\n",
              "</table>\n",
              "<p>1128 rows × 12 columns</p>\n",
              "</div>"
            ],
            "text/plain": [
              "      num_author  creation_year  height  width  estimate_low  estimate_high  \\\n",
              "0              1         1983.0    14.0   10.0       80669.0       141170.0   \n",
              "2              1         1984.0    20.0   16.0       91964.0       118239.0   \n",
              "3              1         1982.0     8.0   16.0      131377.0       197066.0   \n",
              "5              1         1982.0     6.0   20.0       91964.0       131378.0   \n",
              "6              1         1986.0    22.0   22.0      131377.0       197066.0   \n",
              "...          ...            ...     ...    ...           ...            ...   \n",
              "1453         100         1999.0     8.0   66.0     2117691.0      2911825.0   \n",
              "1454         100         2012.0     6.0  120.0     1800000.0      2500000.0   \n",
              "1455         100         1986.0     2.0   94.0     3500000.0      4500000.0   \n",
              "1456         100         1989.0    76.0  114.0     3000000.0      5000000.0   \n",
              "1457         100         1978.0     2.0   52.0     1500000.0      2500000.0   \n",
              "\n",
              "      auction_year  artist_birth  artist_death  hammer price  \\\n",
              "0           2018.0        1928.0        1987.0      161338.0   \n",
              "2           2018.0        1928.0        1987.0      128750.0   \n",
              "3           2018.0        1928.0        1987.0      105102.0   \n",
              "5           2018.0        1928.0        1987.0       72258.0   \n",
              "6           2018.0        1928.0        1987.0      170791.0   \n",
              "...            ...           ...           ...           ...   \n",
              "1453        2018.0        1923.0        2015.0     2183869.0   \n",
              "1454        2018.0        1923.0        2015.0     1900000.0   \n",
              "1455        2018.0        1923.0        2015.0     4343000.0   \n",
              "1456        2017.0        1923.0        2015.0     3300000.0   \n",
              "1457        2017.0        1923.0        2015.0     1500000.0   \n",
              "\n",
              "      log hammer price binned  \n",
              "0            11.991257     12  \n",
              "2            11.765628     12  \n",
              "3            11.562687     12  \n",
              "5            11.187998     12  \n",
              "6            12.048196     14  \n",
              "...                ...    ...  \n",
              "1453         14.596609     16  \n",
              "1454         14.457364     16  \n",
              "1455         15.284076     16  \n",
              "1456         15.009433     16  \n",
              "1457         14.220976     16  \n",
              "\n",
              "[1128 rows x 12 columns]"
            ]
          },
          "metadata": {
            "tags": []
          },
          "execution_count": 73
        }
      ]
    },
    {
      "cell_type": "code",
      "metadata": {
        "id": "pU5MPJ31CLxr",
        "colab_type": "code",
        "outputId": "86dbac83-4fa3-445c-ad8d-7a0c74697c2b",
        "colab": {
          "base_uri": "https://localhost:8080/",
          "height": 187
        }
      },
      "source": [
        "df.dtypes"
      ],
      "execution_count": 23,
      "outputs": [
        {
          "output_type": "execute_result",
          "data": {
            "text/plain": [
              "num_author         int64\n",
              "creation_year    float64\n",
              "height           float64\n",
              "width            float64\n",
              "estimate_low     float64\n",
              "estimate_high    float64\n",
              "auction_year     float64\n",
              "artist_birth     float64\n",
              "hammer price     float64\n",
              "dtype: object"
            ]
          },
          "metadata": {
            "tags": []
          },
          "execution_count": 23
        }
      ]
    },
    {
      "cell_type": "code",
      "metadata": {
        "id": "qRER55fhXrt_",
        "colab_type": "code",
        "colab": {}
      },
      "source": [
        "df['log hammer price'] = np.log10(df['hammer price'])"
      ],
      "execution_count": 0,
      "outputs": []
    },
    {
      "cell_type": "code",
      "metadata": {
        "id": "ffBAia3HXz6y",
        "colab_type": "code",
        "outputId": "4b89c989-e3cc-40ad-fddd-45bb419ac9fb",
        "colab": {
          "base_uri": "https://localhost:8080/",
          "height": 204
        }
      },
      "source": [
        "df.dtypes"
      ],
      "execution_count": 29,
      "outputs": [
        {
          "output_type": "execute_result",
          "data": {
            "text/plain": [
              "num_author            int64\n",
              "creation_year       float64\n",
              "height              float64\n",
              "width               float64\n",
              "estimate_low        float64\n",
              "estimate_high       float64\n",
              "auction_year        float64\n",
              "artist_birth        float64\n",
              "hammer price        float64\n",
              "log hammer price    float64\n",
              "dtype: object"
            ]
          },
          "metadata": {
            "tags": []
          },
          "execution_count": 29
        }
      ]
    },
    {
      "cell_type": "code",
      "metadata": {
        "id": "8Xy4E5YFWhSt",
        "colab_type": "code",
        "outputId": "af5d69aa-0560-4762-dd67-bdf064c0d2da",
        "colab": {
          "base_uri": "https://localhost:8080/",
          "height": 592
        }
      },
      "source": [
        "df.hist(column='hammer price', bins=100)\n",
        "df.hist(column='log hammer price', bins=100)"
      ],
      "execution_count": 30,
      "outputs": [
        {
          "output_type": "execute_result",
          "data": {
            "text/plain": [
              "array([[<matplotlib.axes._subplots.AxesSubplot object at 0x7f134b3aaba8>]],\n",
              "      dtype=object)"
            ]
          },
          "metadata": {
            "tags": []
          },
          "execution_count": 30
        },
        {
          "output_type": "display_data",
          "data": {
            "image/png": "[encoded data removed]",
            "text/plain": [
              "<Figure size 432x288 with 1 Axes>"
            ]
          },
          "metadata": {
            "tags": []
          }
        },
        {
          "output_type": "display_data",
          "data": {
            "image/png": "[encoded data removed]",
            "text/plain": [
              "<Figure size 432x288 with 1 Axes>"
            ]
          },
          "metadata": {
            "tags": []
          }
        }
      ]
    },
    {
      "cell_type": "code",
      "metadata": {
        "id": "ATx94FXNWhaV",
        "colab_type": "code",
        "outputId": "98feb1d6-4e10-4f7c-8639-7f76860b3bb6",
        "colab": {
          "base_uri": "https://localhost:8080/",
          "height": 255
        }
      },
      "source": [
        "bins = [0,3,4,5,6,7,8]\n",
        "labels = [0,1,2,3,4,5]\n",
        "df['binned'] = pd.cut(df['log hammer price'], bins=bins, labels=labels)\n",
        "print(df)"
      ],
      "execution_count": 32,
      "outputs": [
        {
          "output_type": "stream",
          "text": [
            "      num_author  creation_year  height  ...  hammer price  log hammer price  binned\n",
            "0              1         1983.0    14.0  ...      161338.0          5.207737       3\n",
            "2              1         1984.0    20.0  ...      128750.0          5.109747       3\n",
            "3              1         1982.0     8.0  ...      105102.0          5.021611       3\n",
            "5              1         1982.0     6.0  ...       72258.0          4.858886       2\n",
            "6              1         1986.0    22.0  ...      170791.0          5.232465       3\n",
            "...          ...            ...     ...  ...           ...               ...     ...\n",
            "1453         100         1999.0     8.0  ...     2183869.0          6.339227       4\n",
            "1454         100         2012.0     6.0  ...     1900000.0          6.278754       4\n",
            "1455         100         1986.0     2.0  ...     4343000.0          6.637790       4\n",
            "1456         100         1989.0    76.0  ...     3300000.0          6.518514       4\n",
            "1457         100         1978.0     2.0  ...     1500000.0          6.176091       4\n",
            "\n",
            "[1101 rows x 11 columns]\n"
          ],
          "name": "stdout"
        }
      ]
    },
    {
      "cell_type": "code",
      "metadata": {
        "id": "mY7cr3HETvo4",
        "colab_type": "code",
        "colab": {}
      },
      "source": [
        "dataset = df.values\n",
        "X = dataset[:,0:8]\n",
        "Y = dataset[:,10]"
      ],
      "execution_count": 0,
      "outputs": []
    },
    {
      "cell_type": "code",
      "metadata": {
        "id": "KW71jXL5bEWR",
        "colab_type": "code",
        "outputId": "b79b349c-d3a4-47ee-ce72-2515ef92febc",
        "colab": {
          "base_uri": "https://localhost:8080/",
          "height": 136
        }
      },
      "source": [
        "X"
      ],
      "execution_count": 34,
      "outputs": [
        {
          "output_type": "execute_result",
          "data": {
            "text/plain": [
              "array([[1, 1983.0, 14.0, ..., 141170.0, 2018.0, 1928.0],\n",
              "       [1, 1984.0, 20.0, ..., 118239.0, 2018.0, 1928.0],\n",
              "       [1, 1982.0, 8.0, ..., 197066.0, 2018.0, 1928.0],\n",
              "       ...,\n",
              "       [100, 1986.0, 2.0, ..., 4500000.0, 2018.0, 1923.0],\n",
              "       [100, 1989.0, 76.0, ..., 5000000.0, 2017.0, 1923.0],\n",
              "       [100, 1978.0, 2.0, ..., 2500000.0, 2017.0, 1923.0]], dtype=object)"
            ]
          },
          "metadata": {
            "tags": []
          },
          "execution_count": 34
        }
      ]
    },
    {
      "cell_type": "code",
      "metadata": {
        "id": "cI9UuVfKab65",
        "colab_type": "code",
        "outputId": "1a1e382b-b7ee-462b-e4a4-8556033e8ae4",
        "colab": {
          "base_uri": "https://localhost:8080/",
          "height": 34
        }
      },
      "source": [
        "Y"
      ],
      "execution_count": 35,
      "outputs": [
        {
          "output_type": "execute_result",
          "data": {
            "text/plain": [
              "array([3, 3, 3, ..., 4, 4, 4], dtype=object)"
            ]
          },
          "metadata": {
            "tags": []
          },
          "execution_count": 35
        }
      ]
    },
    {
      "cell_type": "code",
      "metadata": {
        "id": "83B-mqxyjo1a",
        "colab_type": "code",
        "outputId": "1b91860e-d8c0-484f-9e7b-2e5a6405cf0f",
        "colab": {
          "base_uri": "https://localhost:8080/",
          "height": 153
        }
      },
      "source": [
        "from sklearn.preprocessing import LabelEncoder\n",
        "from keras.utils import np_utils\n",
        "encoder = LabelEncoder()\n",
        "encoder.fit(Y)\n",
        "encoded_Y = encoder.transform(Y)\n",
        "dummy_y = np_utils.to_categorical(encoded_Y) \n",
        "dummy_y"
      ],
      "execution_count": 36,
      "outputs": [
        {
          "output_type": "stream",
          "text": [
            "Using TensorFlow backend.\n"
          ],
          "name": "stderr"
        },
        {
          "output_type": "execute_result",
          "data": {
            "text/plain": [
              "array([[0., 0., 0., 1., 0., 0.],\n",
              "       [0., 0., 0., 1., 0., 0.],\n",
              "       [0., 0., 0., 1., 0., 0.],\n",
              "       ...,\n",
              "       [0., 0., 0., 0., 1., 0.],\n",
              "       [0., 0., 0., 0., 1., 0.],\n",
              "       [0., 0., 0., 0., 1., 0.]], dtype=float32)"
            ]
          },
          "metadata": {
            "tags": []
          },
          "execution_count": 36
        }
      ]
    },
    {
      "cell_type": "code",
      "metadata": {
        "id": "S9QfVGgLbZ-x",
        "colab_type": "code",
        "outputId": "e01d0c54-a34c-4215-a68e-15c928d9ea1e",
        "colab": {
          "base_uri": "https://localhost:8080/",
          "height": 51
        }
      },
      "source": [
        "from sklearn.model_selection import train_test_split\n",
        "X_train, X_test, Y_train, Y_test = train_test_split(X, dummy_y, test_size=0.25)\n",
        "print(X_train.shape, Y_train.shape,X_test.shape, Y_test.shape)\n",
        "print(X_test[0])"
      ],
      "execution_count": 46,
      "outputs": [
        {
          "output_type": "stream",
          "text": [
            "(825, 8) (825, 6) (276, 8) (276, 6)\n",
            "[3 1999.0 8.0 15.0 10586.0 15879.0 2017.0 1932.0]\n"
          ],
          "name": "stdout"
        }
      ]
    },
    {
      "cell_type": "code",
      "metadata": {
        "id": "QkBCX8aHRWLF",
        "colab_type": "code",
        "outputId": "f233cde0-32e8-4d97-85a8-cfdf3baaf676",
        "colab": {
          "base_uri": "https://localhost:8080/",
          "height": 201
        }
      },
      "source": [
        "#X_train = np.where(np.isfinite(X_train), X_train, 0)\n",
        "#X_test = np.where(np.isfinite(X_test), X_test, 0)\n",
        "#print(X_train.shape)\n",
        "#print(X_test.shape)\n",
        "#Y_train = np.where(np.isfinite(Y_train), Y_train, 0)\n",
        "#Y_test = np.where(np.isfinite(Y_test), Y_test, 0)"
      ],
      "execution_count": 0,
      "outputs": [
        {
          "output_type": "error",
          "ename": "TypeError",
          "evalue": "ignored",
          "traceback": [
            "\u001b[0;31m---------------------------------------------------------------------------\u001b[0m",
            "\u001b[0;31mTypeError\u001b[0m                                 Traceback (most recent call last)",
            "\u001b[0;32m<ipython-input-39-e19e8dee4b4a>\u001b[0m in \u001b[0;36m<module>\u001b[0;34m()\u001b[0m\n\u001b[0;32m----> 1\u001b[0;31m \u001b[0mX_train\u001b[0m \u001b[0;34m=\u001b[0m \u001b[0mnp\u001b[0m\u001b[0;34m.\u001b[0m\u001b[0mwhere\u001b[0m\u001b[0;34m(\u001b[0m\u001b[0mnp\u001b[0m\u001b[0;34m.\u001b[0m\u001b[0misfinite\u001b[0m\u001b[0;34m(\u001b[0m\u001b[0mX_train\u001b[0m\u001b[0;34m)\u001b[0m\u001b[0;34m,\u001b[0m \u001b[0mX_train\u001b[0m\u001b[0;34m,\u001b[0m \u001b[0;36m0\u001b[0m\u001b[0;34m)\u001b[0m\u001b[0;34m\u001b[0m\u001b[0;34m\u001b[0m\u001b[0m\n\u001b[0m\u001b[1;32m      2\u001b[0m \u001b[0mX_test\u001b[0m \u001b[0;34m=\u001b[0m \u001b[0mnp\u001b[0m\u001b[0;34m.\u001b[0m\u001b[0mwhere\u001b[0m\u001b[0;34m(\u001b[0m\u001b[0mnp\u001b[0m\u001b[0;34m.\u001b[0m\u001b[0misfinite\u001b[0m\u001b[0;34m(\u001b[0m\u001b[0mX_test\u001b[0m\u001b[0;34m)\u001b[0m\u001b[0;34m,\u001b[0m \u001b[0mX_test\u001b[0m\u001b[0;34m,\u001b[0m \u001b[0;36m0\u001b[0m\u001b[0;34m)\u001b[0m\u001b[0;34m\u001b[0m\u001b[0;34m\u001b[0m\u001b[0m\n",
            "\u001b[0;31mTypeError\u001b[0m: ufunc 'isfinite' not supported for the input types, and the inputs could not be safely coerced to any supported types according to the casting rule ''safe''"
          ]
        }
      ]
    },
    {
      "cell_type": "code",
      "metadata": {
        "id": "kNaJwVCJPxC1",
        "colab_type": "code",
        "outputId": "d860ffd6-e0c7-43ee-9860-2b4e00cf41ea",
        "colab": {
          "base_uri": "https://localhost:8080/",
          "height": 136
        }
      },
      "source": [
        "Y_test"
      ],
      "execution_count": 47,
      "outputs": [
        {
          "output_type": "execute_result",
          "data": {
            "text/plain": [
              "array([[0., 0., 1., 0., 0., 0.],\n",
              "       [0., 0., 1., 0., 0., 0.],\n",
              "       [0., 0., 0., 1., 0., 0.],\n",
              "       ...,\n",
              "       [0., 0., 0., 1., 0., 0.],\n",
              "       [0., 0., 1., 0., 0., 0.],\n",
              "       [0., 0., 0., 0., 1., 0.]], dtype=float32)"
            ]
          },
          "metadata": {
            "tags": []
          },
          "execution_count": 47
        }
      ]
    },
    {
      "cell_type": "code",
      "metadata": {
        "id": "jDebE2Vubjlb",
        "colab_type": "code",
        "outputId": "b1900f02-5970-4796-a700-8827f284e84c",
        "colab": {
          "base_uri": "https://localhost:8080/",
          "height": 221
        }
      },
      "source": [
        "#maxPrice = Y_train.max()\n",
        "#Y_train = Y_train / maxPrice\n",
        "#Y_test = Y_test / maxPrice\n",
        "df.dtypes"
      ],
      "execution_count": 48,
      "outputs": [
        {
          "output_type": "execute_result",
          "data": {
            "text/plain": [
              "num_author             int64\n",
              "creation_year        float64\n",
              "height               float64\n",
              "width                float64\n",
              "estimate_low         float64\n",
              "estimate_high        float64\n",
              "auction_year         float64\n",
              "artist_birth         float64\n",
              "hammer price         float64\n",
              "log hammer price     float64\n",
              "binned              category\n",
              "dtype: object"
            ]
          },
          "metadata": {
            "tags": []
          },
          "execution_count": 48
        }
      ]
    },
    {
      "cell_type": "code",
      "metadata": {
        "id": "lTuyXbKObmx4",
        "colab_type": "code",
        "outputId": "a43d5c68-968c-4caf-f34c-aec789bfd6dc",
        "colab": {
          "base_uri": "https://localhost:8080/",
          "height": 34
        }
      },
      "source": [
        "print(X_train[1].shape,X_test.shape,Y_train.shape,Y_test.shape)"
      ],
      "execution_count": 49,
      "outputs": [
        {
          "output_type": "stream",
          "text": [
            "(8,) (276, 8) (825, 6) (276, 6)\n"
          ],
          "name": "stdout"
        }
      ]
    },
    {
      "cell_type": "code",
      "metadata": {
        "id": "h9rfqdfDXiFz",
        "colab_type": "code",
        "outputId": "76acfea7-6dcb-4112-ed78-6156817994fb",
        "colab": {
          "base_uri": "https://localhost:8080/",
          "height": 34
        }
      },
      "source": [
        "X_train[1].shape"
      ],
      "execution_count": 50,
      "outputs": [
        {
          "output_type": "execute_result",
          "data": {
            "text/plain": [
              "(8,)"
            ]
          },
          "metadata": {
            "tags": []
          },
          "execution_count": 50
        }
      ]
    },
    {
      "cell_type": "code",
      "metadata": {
        "id": "SsH8c0v6cqwu",
        "colab_type": "code",
        "outputId": "4152c806-189d-4d33-fa3e-996b4a042310",
        "colab": {
          "base_uri": "https://localhost:8080/",
          "height": 34
        }
      },
      "source": [
        "from sklearn.preprocessing import StandardScaler\n",
        "scaler = StandardScaler()\n",
        "\n",
        "scaler.fit(X_train)\n",
        "\n",
        "X_train_scaled = scaler.transform(X_train)\n",
        "X_test_scaled = scaler.transform(X_test)\n",
        "\n",
        "#print(X_train[0])\n",
        "#print(X_train_scaled[0])\n",
        "print(X_test[0])\n",
        "#print(X_test_scaled[0])\n"
      ],
      "execution_count": 51,
      "outputs": [
        {
          "output_type": "stream",
          "text": [
            "[3 1999.0 8.0 15.0 10586.0 15879.0 2017.0 1932.0]\n"
          ],
          "name": "stdout"
        }
      ]
    },
    {
      "cell_type": "code",
      "metadata": {
        "id": "qpd6nLwSSMaz",
        "colab_type": "code",
        "colab": {}
      },
      "source": [
        "from keras.models import Sequential\n",
        "from keras.layers import Dense, Conv2D, Flatten\n",
        "\n",
        "#Create model\n",
        "model = Sequential()\n",
        "\n",
        "#Add more layers\n",
        "model.add(Dense(16, activation='relu', input_shape = (8,), kernel_initializer='normal'))\n",
        "model.add(Dense(16, activation='relu', kernel_initializer='normal'))\n",
        "model.add(Dense(6, activation='softmax', kernel_initializer='normal'))"
      ],
      "execution_count": 0,
      "outputs": []
    },
    {
      "cell_type": "code",
      "metadata": {
        "id": "Yc7LBgvMYWK7",
        "colab_type": "code",
        "colab": {}
      },
      "source": [
        "model.compile(optimizer='adam', loss='categorical_crossentropy',metrics=['accuracy'])"
      ],
      "execution_count": 0,
      "outputs": []
    },
    {
      "cell_type": "code",
      "metadata": {
        "id": "dNR_ChetYg_Y",
        "colab_type": "code",
        "outputId": "0f5e935a-cfd2-48b5-be4b-e60c73d7bc37",
        "colab": {
          "base_uri": "https://localhost:8080/",
          "height": 1000
        }
      },
      "source": [
        "hist = model.fit(X_train_scaled, Y_train, batch_size=32, epochs=60,validation_split=0.1)"
      ],
      "execution_count": 55,
      "outputs": [
        {
          "output_type": "stream",
          "text": [
            "WARNING:tensorflow:From /usr/local/lib/python3.6/dist-packages/tensorflow_core/python/ops/math_grad.py:1424: where (from tensorflow.python.ops.array_ops) is deprecated and will be removed in a future version.\n",
            "Instructions for updating:\n",
            "Use tf.where in 2.0, which has the same broadcast rule as np.where\n",
            "WARNING:tensorflow:From /usr/local/lib/python3.6/dist-packages/keras/backend/tensorflow_backend.py:1033: The name tf.assign_add is deprecated. Please use tf.compat.v1.assign_add instead.\n",
            "\n",
            "WARNING:tensorflow:From /usr/local/lib/python3.6/dist-packages/keras/backend/tensorflow_backend.py:1020: The name tf.assign is deprecated. Please use tf.compat.v1.assign instead.\n",
            "\n",
            "WARNING:tensorflow:From /usr/local/lib/python3.6/dist-packages/keras/backend/tensorflow_backend.py:3005: The name tf.Session is deprecated. Please use tf.compat.v1.Session instead.\n",
            "\n",
            "Train on 742 samples, validate on 83 samples\n",
            "Epoch 1/60\n",
            "WARNING:tensorflow:From /usr/local/lib/python3.6/dist-packages/keras/backend/tensorflow_backend.py:190: The name tf.get_default_session is deprecated. Please use tf.compat.v1.get_default_session instead.\n",
            "\n",
            "WARNING:tensorflow:From /usr/local/lib/python3.6/dist-packages/keras/backend/tensorflow_backend.py:197: The name tf.ConfigProto is deprecated. Please use tf.compat.v1.ConfigProto instead.\n",
            "\n",
            "WARNING:tensorflow:From /usr/local/lib/python3.6/dist-packages/keras/backend/tensorflow_backend.py:207: The name tf.global_variables is deprecated. Please use tf.compat.v1.global_variables instead.\n",
            "\n",
            "WARNING:tensorflow:From /usr/local/lib/python3.6/dist-packages/keras/backend/tensorflow_backend.py:216: The name tf.is_variable_initialized is deprecated. Please use tf.compat.v1.is_variable_initialized instead.\n",
            "\n",
            "WARNING:tensorflow:From /usr/local/lib/python3.6/dist-packages/keras/backend/tensorflow_backend.py:223: The name tf.variables_initializer is deprecated. Please use tf.compat.v1.variables_initializer instead.\n",
            "\n",
            "742/742 [==============================] - 1s 1ms/step - loss: 1.7781 - acc: 0.4245 - val_loss: 1.7569 - val_acc: 0.4578\n",
            "Epoch 2/60\n",
            "742/742 [==============================] - 0s 48us/step - loss: 1.7283 - acc: 0.4542 - val_loss: 1.6767 - val_acc: 0.4578\n",
            "Epoch 3/60\n",
            "742/742 [==============================] - 0s 51us/step - loss: 1.6144 - acc: 0.4542 - val_loss: 1.5089 - val_acc: 0.4578\n",
            "Epoch 4/60\n",
            "742/742 [==============================] - 0s 64us/step - loss: 1.4195 - acc: 0.4542 - val_loss: 1.3095 - val_acc: 0.4578\n",
            "Epoch 5/60\n",
            "742/742 [==============================] - 0s 56us/step - loss: 1.2668 - acc: 0.4542 - val_loss: 1.2016 - val_acc: 0.4578\n",
            "Epoch 6/60\n",
            "742/742 [==============================] - 0s 58us/step - loss: 1.1908 - acc: 0.4542 - val_loss: 1.1421 - val_acc: 0.4578\n",
            "Epoch 7/60\n",
            "742/742 [==============================] - 0s 57us/step - loss: 1.1321 - acc: 0.4677 - val_loss: 1.0879 - val_acc: 0.4940\n",
            "Epoch 8/60\n",
            "742/742 [==============================] - 0s 57us/step - loss: 1.0781 - acc: 0.4933 - val_loss: 1.0391 - val_acc: 0.4819\n",
            "Epoch 9/60\n",
            "742/742 [==============================] - 0s 50us/step - loss: 1.0320 - acc: 0.5553 - val_loss: 0.9978 - val_acc: 0.5060\n",
            "Epoch 10/60\n",
            "742/742 [==============================] - 0s 56us/step - loss: 0.9956 - acc: 0.5701 - val_loss: 0.9682 - val_acc: 0.5301\n",
            "Epoch 11/60\n",
            "742/742 [==============================] - 0s 52us/step - loss: 0.9656 - acc: 0.5836 - val_loss: 0.9496 - val_acc: 0.5422\n",
            "Epoch 12/60\n",
            "742/742 [==============================] - 0s 59us/step - loss: 0.9396 - acc: 0.5822 - val_loss: 0.9259 - val_acc: 0.5542\n",
            "Epoch 13/60\n",
            "742/742 [==============================] - 0s 52us/step - loss: 0.9169 - acc: 0.5903 - val_loss: 0.9085 - val_acc: 0.5542\n",
            "Epoch 14/60\n",
            "742/742 [==============================] - 0s 54us/step - loss: 0.8948 - acc: 0.6119 - val_loss: 0.8951 - val_acc: 0.5542\n",
            "Epoch 15/60\n",
            "742/742 [==============================] - 0s 58us/step - loss: 0.8777 - acc: 0.6065 - val_loss: 0.8791 - val_acc: 0.5663\n",
            "Epoch 16/60\n",
            "742/742 [==============================] - 0s 66us/step - loss: 0.8603 - acc: 0.6253 - val_loss: 0.8630 - val_acc: 0.5542\n",
            "Epoch 17/60\n",
            "742/742 [==============================] - 0s 67us/step - loss: 0.8463 - acc: 0.6226 - val_loss: 0.8511 - val_acc: 0.5542\n",
            "Epoch 18/60\n",
            "742/742 [==============================] - 0s 56us/step - loss: 0.8320 - acc: 0.6321 - val_loss: 0.8363 - val_acc: 0.5542\n",
            "Epoch 19/60\n",
            "742/742 [==============================] - 0s 58us/step - loss: 0.8169 - acc: 0.6280 - val_loss: 0.8246 - val_acc: 0.6024\n",
            "Epoch 20/60\n",
            "742/742 [==============================] - 0s 52us/step - loss: 0.8044 - acc: 0.6415 - val_loss: 0.8096 - val_acc: 0.5904\n",
            "Epoch 21/60\n",
            "742/742 [==============================] - 0s 53us/step - loss: 0.7917 - acc: 0.6456 - val_loss: 0.8013 - val_acc: 0.5904\n",
            "Epoch 22/60\n",
            "742/742 [==============================] - 0s 50us/step - loss: 0.7801 - acc: 0.6496 - val_loss: 0.7900 - val_acc: 0.6024\n",
            "Epoch 23/60\n",
            "742/742 [==============================] - 0s 57us/step - loss: 0.7703 - acc: 0.6712 - val_loss: 0.7717 - val_acc: 0.6024\n",
            "Epoch 24/60\n",
            "742/742 [==============================] - 0s 70us/step - loss: 0.7621 - acc: 0.6752 - val_loss: 0.7695 - val_acc: 0.6145\n",
            "Epoch 25/60\n",
            "742/742 [==============================] - 0s 57us/step - loss: 0.7504 - acc: 0.6792 - val_loss: 0.7572 - val_acc: 0.6145\n",
            "Epoch 26/60\n",
            "742/742 [==============================] - 0s 59us/step - loss: 0.7426 - acc: 0.6792 - val_loss: 0.7435 - val_acc: 0.6145\n",
            "Epoch 27/60\n",
            "742/742 [==============================] - 0s 53us/step - loss: 0.7369 - acc: 0.6846 - val_loss: 0.7392 - val_acc: 0.6145\n",
            "Epoch 28/60\n",
            "742/742 [==============================] - 0s 52us/step - loss: 0.7302 - acc: 0.6765 - val_loss: 0.7334 - val_acc: 0.6386\n",
            "Epoch 29/60\n",
            "742/742 [==============================] - 0s 50us/step - loss: 0.7211 - acc: 0.6914 - val_loss: 0.7249 - val_acc: 0.6145\n",
            "Epoch 30/60\n",
            "742/742 [==============================] - 0s 50us/step - loss: 0.7154 - acc: 0.6995 - val_loss: 0.7155 - val_acc: 0.6386\n",
            "Epoch 31/60\n",
            "742/742 [==============================] - 0s 55us/step - loss: 0.7083 - acc: 0.6914 - val_loss: 0.7101 - val_acc: 0.6145\n",
            "Epoch 32/60\n",
            "742/742 [==============================] - 0s 54us/step - loss: 0.7028 - acc: 0.7022 - val_loss: 0.7070 - val_acc: 0.6386\n",
            "Epoch 33/60\n",
            "742/742 [==============================] - 0s 57us/step - loss: 0.6956 - acc: 0.7075 - val_loss: 0.7061 - val_acc: 0.6265\n",
            "Epoch 34/60\n",
            "742/742 [==============================] - 0s 48us/step - loss: 0.6911 - acc: 0.7062 - val_loss: 0.6916 - val_acc: 0.6627\n",
            "Epoch 35/60\n",
            "742/742 [==============================] - 0s 54us/step - loss: 0.6884 - acc: 0.6954 - val_loss: 0.6943 - val_acc: 0.6627\n",
            "Epoch 36/60\n",
            "742/742 [==============================] - 0s 53us/step - loss: 0.6793 - acc: 0.7197 - val_loss: 0.6780 - val_acc: 0.6867\n",
            "Epoch 37/60\n",
            "742/742 [==============================] - 0s 58us/step - loss: 0.6756 - acc: 0.7197 - val_loss: 0.6699 - val_acc: 0.6867\n",
            "Epoch 38/60\n",
            "742/742 [==============================] - 0s 58us/step - loss: 0.6704 - acc: 0.7183 - val_loss: 0.6642 - val_acc: 0.6988\n",
            "Epoch 39/60\n",
            "742/742 [==============================] - 0s 57us/step - loss: 0.6637 - acc: 0.7224 - val_loss: 0.6627 - val_acc: 0.6867\n",
            "Epoch 40/60\n",
            "742/742 [==============================] - 0s 59us/step - loss: 0.6584 - acc: 0.7264 - val_loss: 0.6553 - val_acc: 0.7229\n",
            "Epoch 41/60\n",
            "742/742 [==============================] - 0s 52us/step - loss: 0.6534 - acc: 0.7224 - val_loss: 0.6477 - val_acc: 0.7108\n",
            "Epoch 42/60\n",
            "742/742 [==============================] - 0s 63us/step - loss: 0.6478 - acc: 0.7305 - val_loss: 0.6510 - val_acc: 0.6988\n",
            "Epoch 43/60\n",
            "742/742 [==============================] - 0s 52us/step - loss: 0.6417 - acc: 0.7372 - val_loss: 0.6372 - val_acc: 0.7229\n",
            "Epoch 44/60\n",
            "742/742 [==============================] - 0s 52us/step - loss: 0.6370 - acc: 0.7318 - val_loss: 0.6339 - val_acc: 0.7229\n",
            "Epoch 45/60\n",
            "742/742 [==============================] - 0s 51us/step - loss: 0.6309 - acc: 0.7426 - val_loss: 0.6251 - val_acc: 0.7229\n",
            "Epoch 46/60\n",
            "742/742 [==============================] - 0s 60us/step - loss: 0.6259 - acc: 0.7534 - val_loss: 0.6342 - val_acc: 0.7108\n",
            "Epoch 47/60\n",
            "742/742 [==============================] - 0s 67us/step - loss: 0.6225 - acc: 0.7480 - val_loss: 0.6202 - val_acc: 0.7229\n",
            "Epoch 48/60\n",
            "742/742 [==============================] - 0s 55us/step - loss: 0.6145 - acc: 0.7480 - val_loss: 0.6160 - val_acc: 0.7108\n",
            "Epoch 49/60\n",
            "742/742 [==============================] - 0s 61us/step - loss: 0.6142 - acc: 0.7385 - val_loss: 0.6008 - val_acc: 0.7590\n",
            "Epoch 50/60\n",
            "742/742 [==============================] - 0s 54us/step - loss: 0.6084 - acc: 0.7439 - val_loss: 0.6020 - val_acc: 0.7470\n",
            "Epoch 51/60\n",
            "742/742 [==============================] - 0s 50us/step - loss: 0.6034 - acc: 0.7493 - val_loss: 0.5910 - val_acc: 0.7590\n",
            "Epoch 52/60\n",
            "742/742 [==============================] - 0s 49us/step - loss: 0.5976 - acc: 0.7453 - val_loss: 0.5978 - val_acc: 0.7590\n",
            "Epoch 53/60\n",
            "742/742 [==============================] - 0s 49us/step - loss: 0.5932 - acc: 0.7547 - val_loss: 0.5844 - val_acc: 0.7470\n",
            "Epoch 54/60\n",
            "742/742 [==============================] - 0s 52us/step - loss: 0.5913 - acc: 0.7534 - val_loss: 0.5886 - val_acc: 0.7590\n",
            "Epoch 55/60\n",
            "742/742 [==============================] - 0s 52us/step - loss: 0.5845 - acc: 0.7534 - val_loss: 0.5852 - val_acc: 0.7470\n",
            "Epoch 56/60\n",
            "742/742 [==============================] - 0s 49us/step - loss: 0.5812 - acc: 0.7534 - val_loss: 0.5742 - val_acc: 0.7711\n",
            "Epoch 57/60\n",
            "742/742 [==============================] - 0s 60us/step - loss: 0.5755 - acc: 0.7561 - val_loss: 0.5747 - val_acc: 0.7590\n",
            "Epoch 58/60\n",
            "742/742 [==============================] - 0s 51us/step - loss: 0.5742 - acc: 0.7655 - val_loss: 0.5735 - val_acc: 0.7711\n",
            "Epoch 59/60\n",
            "742/742 [==============================] - 0s 54us/step - loss: 0.5688 - acc: 0.7668 - val_loss: 0.5657 - val_acc: 0.7831\n",
            "Epoch 60/60\n",
            "742/742 [==============================] - 0s 53us/step - loss: 0.5684 - acc: 0.7547 - val_loss: 0.5741 - val_acc: 0.7590\n"
          ],
          "name": "stdout"
        }
      ]
    },
    {
      "cell_type": "code",
      "metadata": {
        "id": "Z5OheaZjYxZu",
        "colab_type": "code",
        "outputId": "09afcb8f-cc03-4430-a680-1ae42e147014",
        "colab": {
          "base_uri": "https://localhost:8080/",
          "height": 51
        }
      },
      "source": [
        "model.evaluate(X_test_scaled, Y_test)"
      ],
      "execution_count": 56,
      "outputs": [
        {
          "output_type": "stream",
          "text": [
            "276/276 [==============================] - 0s 65us/step\n"
          ],
          "name": "stdout"
        },
        {
          "output_type": "execute_result",
          "data": {
            "text/plain": [
              "[0.5603954714277516, 0.7717391295709471]"
            ]
          },
          "metadata": {
            "tags": []
          },
          "execution_count": 56
        }
      ]
    },
    {
      "cell_type": "code",
      "metadata": {
        "id": "AOjjuB4cY-8Z",
        "colab_type": "code",
        "outputId": "5f4fcff1-1ddb-4b61-eea0-69c9413a059d",
        "colab": {
          "base_uri": "https://localhost:8080/",
          "height": 295
        }
      },
      "source": [
        "import matplotlib.pyplot as plt\n",
        "\n",
        "plt.plot(hist.history['loss'])\n",
        "plt.plot(hist.history['val_loss'])\n",
        "plt.title('Model loss')\n",
        "plt.ylabel('Loss')\n",
        "plt.xlabel('Epoch')\n",
        "plt.legend(['Train', 'Val'], loc = 'upper right')\n",
        "plt.show()"
      ],
      "execution_count": 57,
      "outputs": [
        {
          "output_type": "display_data",
          "data": {
            "image/png": "[encoded data removed]",
            "text/plain": [
              "<Figure size 432x288 with 1 Axes>"
            ]
          },
          "metadata": {
            "tags": []
          }
        }
      ]
    },
    {
      "cell_type": "code",
      "metadata": {
        "id": "j_JDsq7JZC6-",
        "colab_type": "code",
        "outputId": "d8c08238-b98b-45b7-b10a-cbda7d3d948d",
        "colab": {
          "base_uri": "https://localhost:8080/",
          "height": 295
        }
      },
      "source": [
        "plt.plot(hist.history['acc'])\n",
        "plt.plot(hist.history['val_acc'])\n",
        "plt.title('Model accuracy')\n",
        "plt.ylabel('Accuracy')\n",
        "plt.xlabel('Epoch')\n",
        "plt.legend(['Train', 'Val'], loc = 'lower right')\n",
        "plt.show()"
      ],
      "execution_count": 0,
      "outputs": [
        {
          "output_type": "display_data",
          "data": {
            "image/png": "[encoded data removed]",
            "text/plain": [
              "<Figure size 432x288 with 1 Axes>"
            ]
          },
          "metadata": {
            "tags": []
          }
        }
      ]
    },
    {
      "cell_type": "code",
      "metadata": {
        "id": "t2kX3ymqZFMe",
        "colab_type": "code",
        "colab": {}
      },
      "source": [
        ""
      ],
      "execution_count": 0,
      "outputs": []
    }
  ]
}