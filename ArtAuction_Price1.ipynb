{
  "nbformat": 4,
  "nbformat_minor": 0,
  "metadata": {
    "colab": {
      "name": "Untitled4.ipynb",
      "provenance": [],
      "collapsed_sections": [],
      "include_colab_link": true
    },
    "kernelspec": {
      "name": "python3",
      "display_name": "Python 3"
    }
  },
  "cells": [
    {
      "cell_type": "markdown",
      "metadata": {
        "id": "view-in-github",
        "colab_type": "text"
      },
      "source": [
        "<a href=\"https://colab.research.google.com/github/gohenry/DataScienceCoursera/blob/master/ArtAuction_Price1.ipynb\" target=\"_parent\"><img src=\"https://colab.research.google.com/assets/colab-badge.svg\" alt=\"Open In Colab\"/></a>"
      ]
    },
    {
      "cell_type": "code",
      "metadata": {
        "id": "vQehzGIK_d1T",
        "colab_type": "code",
        "colab": {
          "base_uri": "https://localhost:8080/",
          "height": 122
        },
        "outputId": "42c91b2a-47a2-4b1f-b1b7-8a4cf0767627"
      },
      "source": [
        "from google.colab import drive\n",
        "drive.mount ('/content/drive', force_remount = True)"
      ],
      "execution_count": 1,
      "outputs": [
        {
          "output_type": "stream",
          "text": [
            "Go to this URL in a browser: https://accounts.google.com/o/oauth2/auth?client_id=947318989803-6bn6qk8qdgf4n4g3pfee6491hc0brc4i.apps.googleusercontent.com&redirect_uri=urn%3Aietf%3Awg%3Aoauth%3A2.0%3Aoob&scope=email%20https%3A%2F%2Fwww.googleapis.com%2Fauth%2Fdocs.test%20https%3A%2F%2Fwww.googleapis.com%2Fauth%2Fdrive%20https%3A%2F%2Fwww.googleapis.com%2Fauth%2Fdrive.photos.readonly%20https%3A%2F%2Fwww.googleapis.com%2Fauth%2Fpeopleapi.readonly&response_type=code\n",
            "\n",
            "Enter your authorization code:\n",
            "··········\n",
            "Mounted at /content/drive\n"
          ],
          "name": "stdout"
        }
      ]
    },
    {
      "cell_type": "code",
      "metadata": {
        "id": "wzi2CeoiMTQU",
        "colab_type": "code",
        "outputId": "9b81162b-36c4-4630-afa8-acd0010c8799",
        "colab": {
          "base_uri": "https://localhost:8080/",
          "height": 34
        }
      },
      "source": [
        "ls "
      ],
      "execution_count": 2,
      "outputs": [
        {
          "output_type": "stream",
          "text": [
            "\u001b[0m\u001b[01;34mdrive\u001b[0m/  \u001b[01;34msample_data\u001b[0m/\n"
          ],
          "name": "stdout"
        }
      ]
    },
    {
      "cell_type": "code",
      "metadata": {
        "id": "MzosBaOfNRIO",
        "colab_type": "code",
        "outputId": "60664583-1e56-47f0-9341-8535ff66c702",
        "colab": {
          "base_uri": "https://localhost:8080/",
          "height": 34
        }
      },
      "source": [
        "cd drive/My Drive"
      ],
      "execution_count": 3,
      "outputs": [
        {
          "output_type": "stream",
          "text": [
            "/content/drive/My Drive\n"
          ],
          "name": "stdout"
        }
      ]
    },
    {
      "cell_type": "code",
      "metadata": {
        "id": "X-sqMT7ZNUC7",
        "colab_type": "code",
        "outputId": "1c2694fc-8a97-421a-e0dd-f7bad49192d5",
        "colab": {
          "base_uri": "https://localhost:8080/",
          "height": 833
        }
      },
      "source": [
        "ls"
      ],
      "execution_count": 4,
      "outputs": [
        {
          "output_type": "stream",
          "text": [
            "'2013_Korean_Tax_Organizer(Outbound)(Kr).doc'\n",
            "'2018-3-23 2.WIRE ESCROW INFORMATION(D).JPG'\n",
            " CAM00001.jpg\n",
            " CAM00002.jpg\n",
            " CAM00003.jpg\n",
            " CAM00006.jpg\n",
            " CAM00009.jpg\n",
            " CAM00010.jpg\n",
            " CAM00011.jpg\n",
            " CAM00012.jpg\n",
            " CAM00013.jpg\n",
            " CAM00014.jpg\n",
            " CAM00015.jpg\n",
            " CAM00016.jpg\n",
            " CAM00017.jpg\n",
            " CAM00019.jpg\n",
            " CAM00021.jpg\n",
            "\u001b[0m\u001b[01;34m'Colab Notebooks'\u001b[0m/\n",
            "'CV_AnitaJwa copy.doc'\n",
            "'FINAL SURVEY.pdf'\n",
            "'[GoHenry] Bass Lake - Yosemite.gmap'\n",
            "'[GoHenry] Bayland National Park.gmap'\n",
            "'[GoHenry] Big Sur.gmap'\n",
            "'[GoHenry] Durante'\\''s Tavern.gmap'\n",
            "'[GoHenry] Golden Gate Bridge View.gmap'\n",
            "'[GoHenry] Great Places in SF.gmap'\n",
            "'[GoHenry] Lighthouse Hostel.gmap'\n",
            "'[GoHenry] Muir Woods .gmap'\n",
            "'[GoHenry] Night view of SF city.gmap'\n",
            "'[GoHenry] Sausalito.gmap'\n",
            "\u001b[01;34m'Google Buzz'\u001b[0m/\n",
            " Henry2009_all.doc\n",
            "'How Google Makes Money.gslides'\n",
            "'< I always liked to do the following >.gdoc'\n",
            " image3.jpeg\n",
            "'법률저널 광고.jpg'\n",
            "'Korea Trip 1.gdoc'\n",
            "'Law Offices of E.J. Hong - Checklist_01.gdoc'\n",
            "'Law Offices of E.J. Hong - Checklist_01.pdf'\n",
            " message_zdm.html\n",
            " Oct.zip\n",
            " result_2017_2018.xlsx\n",
            " result.xlsx\n",
            "'Stanford Graduate School of Busi.gdoc'\n",
            "'Thoughts on 7 1 2010.gdoc'\n",
            " UmbrellaRenew2018-2019.pdf\n",
            "'Untitled spreadsheet.gsheet'\n",
            "'Wen Meeting - This Friday Lunch.gdoc'\n"
          ],
          "name": "stdout"
        }
      ]
    },
    {
      "cell_type": "code",
      "metadata": {
        "id": "v3bFX7bd_jIk",
        "colab_type": "code",
        "colab": {}
      },
      "source": [
        "from __future__ import absolute_import, division, print_function, unicode_literals\n",
        "import functools\n",
        "\n",
        "import numpy as np\n",
        "import tensorflow as tf\n",
        "import pandas as pd\n"
      ],
      "execution_count": 0,
      "outputs": []
    },
    {
      "cell_type": "code",
      "metadata": {
        "id": "xxpxKtnT_wzt",
        "colab_type": "code",
        "outputId": "c0363776-c908-4b4a-8e29-2cc32989efe4",
        "colab": {
          "base_uri": "https://localhost:8080/",
          "height": 456
        }
      },
      "source": [
        "!pip install -q xlrd\n",
        "\n",
        "import pandas as pd\n",
        "df = pd.read_excel('result_2017_2018.xlsx')\n",
        "df\n"
      ],
      "execution_count": 132,
      "outputs": [
        {
          "output_type": "execute_result",
          "data": {
            "text/html": [
              "<div>\n",
              "<style scoped>\n",
              "    .dataframe tbody tr th:only-of-type {\n",
              "        vertical-align: middle;\n",
              "    }\n",
              "\n",
              "    .dataframe tbody tr th {\n",
              "        vertical-align: top;\n",
              "    }\n",
              "\n",
              "    .dataframe thead th {\n",
              "        text-align: right;\n",
              "    }\n",
              "</style>\n",
              "<table border=\"1\" class=\"dataframe\">\n",
              "  <thead>\n",
              "    <tr style=\"text-align: right;\">\n",
              "      <th></th>\n",
              "      <th>num_author</th>\n",
              "      <th>creation_year</th>\n",
              "      <th>height</th>\n",
              "      <th>width</th>\n",
              "      <th>estimate_low</th>\n",
              "      <th>estimate_high</th>\n",
              "      <th>auction_year</th>\n",
              "      <th>artist_birth</th>\n",
              "      <th>artist_death</th>\n",
              "      <th>hammer price</th>\n",
              "    </tr>\n",
              "  </thead>\n",
              "  <tbody>\n",
              "    <tr>\n",
              "      <th>0</th>\n",
              "      <td>1</td>\n",
              "      <td>1983.0</td>\n",
              "      <td>14.0</td>\n",
              "      <td>10.0</td>\n",
              "      <td>80669.0</td>\n",
              "      <td>141170.0</td>\n",
              "      <td>2018.0</td>\n",
              "      <td>1928.0</td>\n",
              "      <td>1987.0</td>\n",
              "      <td>161338.0</td>\n",
              "    </tr>\n",
              "    <tr>\n",
              "      <th>1</th>\n",
              "      <td>1</td>\n",
              "      <td>1982.0</td>\n",
              "      <td>14.0</td>\n",
              "      <td>11.0</td>\n",
              "      <td>92678.0</td>\n",
              "      <td>139017.0</td>\n",
              "      <td>2018.0</td>\n",
              "      <td>1928.0</td>\n",
              "      <td>1987.0</td>\n",
              "      <td>NaN</td>\n",
              "    </tr>\n",
              "    <tr>\n",
              "      <th>2</th>\n",
              "      <td>1</td>\n",
              "      <td>1984.0</td>\n",
              "      <td>20.0</td>\n",
              "      <td>16.0</td>\n",
              "      <td>91964.0</td>\n",
              "      <td>118239.0</td>\n",
              "      <td>2018.0</td>\n",
              "      <td>1928.0</td>\n",
              "      <td>1987.0</td>\n",
              "      <td>128750.0</td>\n",
              "    </tr>\n",
              "    <tr>\n",
              "      <th>3</th>\n",
              "      <td>1</td>\n",
              "      <td>1982.0</td>\n",
              "      <td>8.0</td>\n",
              "      <td>16.0</td>\n",
              "      <td>131377.0</td>\n",
              "      <td>197066.0</td>\n",
              "      <td>2018.0</td>\n",
              "      <td>1928.0</td>\n",
              "      <td>1987.0</td>\n",
              "      <td>105102.0</td>\n",
              "    </tr>\n",
              "    <tr>\n",
              "      <th>4</th>\n",
              "      <td>1</td>\n",
              "      <td>1982.0</td>\n",
              "      <td>8.0</td>\n",
              "      <td>16.0</td>\n",
              "      <td>131378.0</td>\n",
              "      <td>197067.0</td>\n",
              "      <td>2018.0</td>\n",
              "      <td>1928.0</td>\n",
              "      <td>1987.0</td>\n",
              "      <td>NaN</td>\n",
              "    </tr>\n",
              "    <tr>\n",
              "      <th>...</th>\n",
              "      <td>...</td>\n",
              "      <td>...</td>\n",
              "      <td>...</td>\n",
              "      <td>...</td>\n",
              "      <td>...</td>\n",
              "      <td>...</td>\n",
              "      <td>...</td>\n",
              "      <td>...</td>\n",
              "      <td>...</td>\n",
              "      <td>...</td>\n",
              "    </tr>\n",
              "    <tr>\n",
              "      <th>1453</th>\n",
              "      <td>100</td>\n",
              "      <td>1999.0</td>\n",
              "      <td>8.0</td>\n",
              "      <td>66.0</td>\n",
              "      <td>2117691.0</td>\n",
              "      <td>2911825.0</td>\n",
              "      <td>2018.0</td>\n",
              "      <td>1923.0</td>\n",
              "      <td>2015.0</td>\n",
              "      <td>2183869.0</td>\n",
              "    </tr>\n",
              "    <tr>\n",
              "      <th>1454</th>\n",
              "      <td>100</td>\n",
              "      <td>2012.0</td>\n",
              "      <td>6.0</td>\n",
              "      <td>120.0</td>\n",
              "      <td>1800000.0</td>\n",
              "      <td>2500000.0</td>\n",
              "      <td>2018.0</td>\n",
              "      <td>1923.0</td>\n",
              "      <td>2015.0</td>\n",
              "      <td>1900000.0</td>\n",
              "    </tr>\n",
              "    <tr>\n",
              "      <th>1455</th>\n",
              "      <td>100</td>\n",
              "      <td>1986.0</td>\n",
              "      <td>2.0</td>\n",
              "      <td>94.0</td>\n",
              "      <td>3500000.0</td>\n",
              "      <td>4500000.0</td>\n",
              "      <td>2018.0</td>\n",
              "      <td>1923.0</td>\n",
              "      <td>2015.0</td>\n",
              "      <td>4343000.0</td>\n",
              "    </tr>\n",
              "    <tr>\n",
              "      <th>1456</th>\n",
              "      <td>100</td>\n",
              "      <td>1989.0</td>\n",
              "      <td>76.0</td>\n",
              "      <td>114.0</td>\n",
              "      <td>3000000.0</td>\n",
              "      <td>5000000.0</td>\n",
              "      <td>2017.0</td>\n",
              "      <td>1923.0</td>\n",
              "      <td>2015.0</td>\n",
              "      <td>3300000.0</td>\n",
              "    </tr>\n",
              "    <tr>\n",
              "      <th>1457</th>\n",
              "      <td>100</td>\n",
              "      <td>1978.0</td>\n",
              "      <td>2.0</td>\n",
              "      <td>52.0</td>\n",
              "      <td>1500000.0</td>\n",
              "      <td>2500000.0</td>\n",
              "      <td>2017.0</td>\n",
              "      <td>1923.0</td>\n",
              "      <td>2015.0</td>\n",
              "      <td>1500000.0</td>\n",
              "    </tr>\n",
              "  </tbody>\n",
              "</table>\n",
              "<p>1458 rows × 10 columns</p>\n",
              "</div>"
            ],
            "text/plain": [
              "      num_author  creation_year  height  width  estimate_low  estimate_high  \\\n",
              "0              1         1983.0    14.0   10.0       80669.0       141170.0   \n",
              "1              1         1982.0    14.0   11.0       92678.0       139017.0   \n",
              "2              1         1984.0    20.0   16.0       91964.0       118239.0   \n",
              "3              1         1982.0     8.0   16.0      131377.0       197066.0   \n",
              "4              1         1982.0     8.0   16.0      131378.0       197067.0   \n",
              "...          ...            ...     ...    ...           ...            ...   \n",
              "1453         100         1999.0     8.0   66.0     2117691.0      2911825.0   \n",
              "1454         100         2012.0     6.0  120.0     1800000.0      2500000.0   \n",
              "1455         100         1986.0     2.0   94.0     3500000.0      4500000.0   \n",
              "1456         100         1989.0    76.0  114.0     3000000.0      5000000.0   \n",
              "1457         100         1978.0     2.0   52.0     1500000.0      2500000.0   \n",
              "\n",
              "      auction_year  artist_birth  artist_death  hammer price  \n",
              "0           2018.0        1928.0        1987.0      161338.0  \n",
              "1           2018.0        1928.0        1987.0           NaN  \n",
              "2           2018.0        1928.0        1987.0      128750.0  \n",
              "3           2018.0        1928.0        1987.0      105102.0  \n",
              "4           2018.0        1928.0        1987.0           NaN  \n",
              "...            ...           ...           ...           ...  \n",
              "1453        2018.0        1923.0        2015.0     2183869.0  \n",
              "1454        2018.0        1923.0        2015.0     1900000.0  \n",
              "1455        2018.0        1923.0        2015.0     4343000.0  \n",
              "1456        2017.0        1923.0        2015.0     3300000.0  \n",
              "1457        2017.0        1923.0        2015.0     1500000.0  \n",
              "\n",
              "[1458 rows x 10 columns]"
            ]
          },
          "metadata": {
            "tags": []
          },
          "execution_count": 132
        }
      ]
    },
    {
      "cell_type": "code",
      "metadata": {
        "id": "GnjsOwGtfsjj",
        "colab_type": "code",
        "colab": {}
      },
      "source": [
        "df=df.drop(columns=['artist_death'])"
      ],
      "execution_count": 0,
      "outputs": []
    },
    {
      "cell_type": "code",
      "metadata": {
        "id": "-cRDwRTDeeQ1",
        "colab_type": "code",
        "colab": {}
      },
      "source": [
        "df = df.apply(pd.to_numeric, errors='coerce')\n",
        "df = df.dropna()\n"
      ],
      "execution_count": 0,
      "outputs": []
    },
    {
      "cell_type": "code",
      "metadata": {
        "id": "Ed3oJ6Dqezwq",
        "colab_type": "code",
        "colab": {
          "base_uri": "https://localhost:8080/",
          "height": 456
        },
        "outputId": "ea1efde8-bb57-41ad-aef2-5a3e7d50817b"
      },
      "source": [
        "df"
      ],
      "execution_count": 135,
      "outputs": [
        {
          "output_type": "execute_result",
          "data": {
            "text/html": [
              "<div>\n",
              "<style scoped>\n",
              "    .dataframe tbody tr th:only-of-type {\n",
              "        vertical-align: middle;\n",
              "    }\n",
              "\n",
              "    .dataframe tbody tr th {\n",
              "        vertical-align: top;\n",
              "    }\n",
              "\n",
              "    .dataframe thead th {\n",
              "        text-align: right;\n",
              "    }\n",
              "</style>\n",
              "<table border=\"1\" class=\"dataframe\">\n",
              "  <thead>\n",
              "    <tr style=\"text-align: right;\">\n",
              "      <th></th>\n",
              "      <th>num_author</th>\n",
              "      <th>creation_year</th>\n",
              "      <th>height</th>\n",
              "      <th>width</th>\n",
              "      <th>estimate_low</th>\n",
              "      <th>estimate_high</th>\n",
              "      <th>auction_year</th>\n",
              "      <th>artist_birth</th>\n",
              "      <th>hammer price</th>\n",
              "    </tr>\n",
              "  </thead>\n",
              "  <tbody>\n",
              "    <tr>\n",
              "      <th>0</th>\n",
              "      <td>1</td>\n",
              "      <td>1983.0</td>\n",
              "      <td>14.0</td>\n",
              "      <td>10.0</td>\n",
              "      <td>80669.0</td>\n",
              "      <td>141170.0</td>\n",
              "      <td>2018.0</td>\n",
              "      <td>1928.0</td>\n",
              "      <td>161338.0</td>\n",
              "    </tr>\n",
              "    <tr>\n",
              "      <th>2</th>\n",
              "      <td>1</td>\n",
              "      <td>1984.0</td>\n",
              "      <td>20.0</td>\n",
              "      <td>16.0</td>\n",
              "      <td>91964.0</td>\n",
              "      <td>118239.0</td>\n",
              "      <td>2018.0</td>\n",
              "      <td>1928.0</td>\n",
              "      <td>128750.0</td>\n",
              "    </tr>\n",
              "    <tr>\n",
              "      <th>3</th>\n",
              "      <td>1</td>\n",
              "      <td>1982.0</td>\n",
              "      <td>8.0</td>\n",
              "      <td>16.0</td>\n",
              "      <td>131377.0</td>\n",
              "      <td>197066.0</td>\n",
              "      <td>2018.0</td>\n",
              "      <td>1928.0</td>\n",
              "      <td>105102.0</td>\n",
              "    </tr>\n",
              "    <tr>\n",
              "      <th>5</th>\n",
              "      <td>1</td>\n",
              "      <td>1982.0</td>\n",
              "      <td>6.0</td>\n",
              "      <td>20.0</td>\n",
              "      <td>91964.0</td>\n",
              "      <td>131378.0</td>\n",
              "      <td>2018.0</td>\n",
              "      <td>1928.0</td>\n",
              "      <td>72258.0</td>\n",
              "    </tr>\n",
              "    <tr>\n",
              "      <th>6</th>\n",
              "      <td>1</td>\n",
              "      <td>1986.0</td>\n",
              "      <td>22.0</td>\n",
              "      <td>22.0</td>\n",
              "      <td>131377.0</td>\n",
              "      <td>197066.0</td>\n",
              "      <td>2018.0</td>\n",
              "      <td>1928.0</td>\n",
              "      <td>170791.0</td>\n",
              "    </tr>\n",
              "    <tr>\n",
              "      <th>...</th>\n",
              "      <td>...</td>\n",
              "      <td>...</td>\n",
              "      <td>...</td>\n",
              "      <td>...</td>\n",
              "      <td>...</td>\n",
              "      <td>...</td>\n",
              "      <td>...</td>\n",
              "      <td>...</td>\n",
              "      <td>...</td>\n",
              "    </tr>\n",
              "    <tr>\n",
              "      <th>1453</th>\n",
              "      <td>100</td>\n",
              "      <td>1999.0</td>\n",
              "      <td>8.0</td>\n",
              "      <td>66.0</td>\n",
              "      <td>2117691.0</td>\n",
              "      <td>2911825.0</td>\n",
              "      <td>2018.0</td>\n",
              "      <td>1923.0</td>\n",
              "      <td>2183869.0</td>\n",
              "    </tr>\n",
              "    <tr>\n",
              "      <th>1454</th>\n",
              "      <td>100</td>\n",
              "      <td>2012.0</td>\n",
              "      <td>6.0</td>\n",
              "      <td>120.0</td>\n",
              "      <td>1800000.0</td>\n",
              "      <td>2500000.0</td>\n",
              "      <td>2018.0</td>\n",
              "      <td>1923.0</td>\n",
              "      <td>1900000.0</td>\n",
              "    </tr>\n",
              "    <tr>\n",
              "      <th>1455</th>\n",
              "      <td>100</td>\n",
              "      <td>1986.0</td>\n",
              "      <td>2.0</td>\n",
              "      <td>94.0</td>\n",
              "      <td>3500000.0</td>\n",
              "      <td>4500000.0</td>\n",
              "      <td>2018.0</td>\n",
              "      <td>1923.0</td>\n",
              "      <td>4343000.0</td>\n",
              "    </tr>\n",
              "    <tr>\n",
              "      <th>1456</th>\n",
              "      <td>100</td>\n",
              "      <td>1989.0</td>\n",
              "      <td>76.0</td>\n",
              "      <td>114.0</td>\n",
              "      <td>3000000.0</td>\n",
              "      <td>5000000.0</td>\n",
              "      <td>2017.0</td>\n",
              "      <td>1923.0</td>\n",
              "      <td>3300000.0</td>\n",
              "    </tr>\n",
              "    <tr>\n",
              "      <th>1457</th>\n",
              "      <td>100</td>\n",
              "      <td>1978.0</td>\n",
              "      <td>2.0</td>\n",
              "      <td>52.0</td>\n",
              "      <td>1500000.0</td>\n",
              "      <td>2500000.0</td>\n",
              "      <td>2017.0</td>\n",
              "      <td>1923.0</td>\n",
              "      <td>1500000.0</td>\n",
              "    </tr>\n",
              "  </tbody>\n",
              "</table>\n",
              "<p>1101 rows × 9 columns</p>\n",
              "</div>"
            ],
            "text/plain": [
              "      num_author  creation_year  height  width  estimate_low  estimate_high  \\\n",
              "0              1         1983.0    14.0   10.0       80669.0       141170.0   \n",
              "2              1         1984.0    20.0   16.0       91964.0       118239.0   \n",
              "3              1         1982.0     8.0   16.0      131377.0       197066.0   \n",
              "5              1         1982.0     6.0   20.0       91964.0       131378.0   \n",
              "6              1         1986.0    22.0   22.0      131377.0       197066.0   \n",
              "...          ...            ...     ...    ...           ...            ...   \n",
              "1453         100         1999.0     8.0   66.0     2117691.0      2911825.0   \n",
              "1454         100         2012.0     6.0  120.0     1800000.0      2500000.0   \n",
              "1455         100         1986.0     2.0   94.0     3500000.0      4500000.0   \n",
              "1456         100         1989.0    76.0  114.0     3000000.0      5000000.0   \n",
              "1457         100         1978.0     2.0   52.0     1500000.0      2500000.0   \n",
              "\n",
              "      auction_year  artist_birth  hammer price  \n",
              "0           2018.0        1928.0      161338.0  \n",
              "2           2018.0        1928.0      128750.0  \n",
              "3           2018.0        1928.0      105102.0  \n",
              "5           2018.0        1928.0       72258.0  \n",
              "6           2018.0        1928.0      170791.0  \n",
              "...            ...           ...           ...  \n",
              "1453        2018.0        1923.0     2183869.0  \n",
              "1454        2018.0        1923.0     1900000.0  \n",
              "1455        2018.0        1923.0     4343000.0  \n",
              "1456        2017.0        1923.0     3300000.0  \n",
              "1457        2017.0        1923.0     1500000.0  \n",
              "\n",
              "[1101 rows x 9 columns]"
            ]
          },
          "metadata": {
            "tags": []
          },
          "execution_count": 135
        }
      ]
    },
    {
      "cell_type": "code",
      "metadata": {
        "id": "lTKBTUESI-L0",
        "colab_type": "code",
        "outputId": "29f331cb-ae24-4a78-c1cb-47dbae99e2aa",
        "colab": {
          "base_uri": "https://localhost:8080/",
          "height": 473
        }
      },
      "source": [
        "# remove rows with NaN on column 'hammer price'\n",
        "#df = df[np.isfinite(df['hammer price'])]\n",
        "#df = df[np.isfinite(df['creation_year'])]\n",
        "#df = df[np.isfinite(df['estimate_low'])]\n",
        "#df = df[np.isfinite(df['auction_year'])]\n",
        "#df = df[np.isfinite(df['artist_birth'])]\n",
        "#df"
      ],
      "execution_count": 73,
      "outputs": [
        {
          "output_type": "execute_result",
          "data": {
            "text/html": [
              "<div>\n",
              "<style scoped>\n",
              "    .dataframe tbody tr th:only-of-type {\n",
              "        vertical-align: middle;\n",
              "    }\n",
              "\n",
              "    .dataframe tbody tr th {\n",
              "        vertical-align: top;\n",
              "    }\n",
              "\n",
              "    .dataframe thead th {\n",
              "        text-align: right;\n",
              "    }\n",
              "</style>\n",
              "<table border=\"1\" class=\"dataframe\">\n",
              "  <thead>\n",
              "    <tr style=\"text-align: right;\">\n",
              "      <th></th>\n",
              "      <th>num_author</th>\n",
              "      <th>creation_year</th>\n",
              "      <th>height</th>\n",
              "      <th>width</th>\n",
              "      <th>estimate_low</th>\n",
              "      <th>estimate_high</th>\n",
              "      <th>auction_year</th>\n",
              "      <th>artist_birth</th>\n",
              "      <th>artist_death</th>\n",
              "      <th>hammer price</th>\n",
              "      <th>log hammer price</th>\n",
              "      <th>binned</th>\n",
              "    </tr>\n",
              "  </thead>\n",
              "  <tbody>\n",
              "    <tr>\n",
              "      <th>0</th>\n",
              "      <td>1</td>\n",
              "      <td>1983.0</td>\n",
              "      <td>14.0</td>\n",
              "      <td>10.0</td>\n",
              "      <td>80669.0</td>\n",
              "      <td>141170.0</td>\n",
              "      <td>2018.0</td>\n",
              "      <td>1928.0</td>\n",
              "      <td>1987.0</td>\n",
              "      <td>161338.0</td>\n",
              "      <td>11.991257</td>\n",
              "      <td>12</td>\n",
              "    </tr>\n",
              "    <tr>\n",
              "      <th>2</th>\n",
              "      <td>1</td>\n",
              "      <td>1984.0</td>\n",
              "      <td>20.0</td>\n",
              "      <td>16.0</td>\n",
              "      <td>91964.0</td>\n",
              "      <td>118239.0</td>\n",
              "      <td>2018.0</td>\n",
              "      <td>1928.0</td>\n",
              "      <td>1987.0</td>\n",
              "      <td>128750.0</td>\n",
              "      <td>11.765628</td>\n",
              "      <td>12</td>\n",
              "    </tr>\n",
              "    <tr>\n",
              "      <th>3</th>\n",
              "      <td>1</td>\n",
              "      <td>1982.0</td>\n",
              "      <td>8.0</td>\n",
              "      <td>16.0</td>\n",
              "      <td>131377.0</td>\n",
              "      <td>197066.0</td>\n",
              "      <td>2018.0</td>\n",
              "      <td>1928.0</td>\n",
              "      <td>1987.0</td>\n",
              "      <td>105102.0</td>\n",
              "      <td>11.562687</td>\n",
              "      <td>12</td>\n",
              "    </tr>\n",
              "    <tr>\n",
              "      <th>5</th>\n",
              "      <td>1</td>\n",
              "      <td>1982.0</td>\n",
              "      <td>6.0</td>\n",
              "      <td>20.0</td>\n",
              "      <td>91964.0</td>\n",
              "      <td>131378.0</td>\n",
              "      <td>2018.0</td>\n",
              "      <td>1928.0</td>\n",
              "      <td>1987.0</td>\n",
              "      <td>72258.0</td>\n",
              "      <td>11.187998</td>\n",
              "      <td>12</td>\n",
              "    </tr>\n",
              "    <tr>\n",
              "      <th>6</th>\n",
              "      <td>1</td>\n",
              "      <td>1986.0</td>\n",
              "      <td>22.0</td>\n",
              "      <td>22.0</td>\n",
              "      <td>131377.0</td>\n",
              "      <td>197066.0</td>\n",
              "      <td>2018.0</td>\n",
              "      <td>1928.0</td>\n",
              "      <td>1987.0</td>\n",
              "      <td>170791.0</td>\n",
              "      <td>12.048196</td>\n",
              "      <td>14</td>\n",
              "    </tr>\n",
              "    <tr>\n",
              "      <th>...</th>\n",
              "      <td>...</td>\n",
              "      <td>...</td>\n",
              "      <td>...</td>\n",
              "      <td>...</td>\n",
              "      <td>...</td>\n",
              "      <td>...</td>\n",
              "      <td>...</td>\n",
              "      <td>...</td>\n",
              "      <td>...</td>\n",
              "      <td>...</td>\n",
              "      <td>...</td>\n",
              "      <td>...</td>\n",
              "    </tr>\n",
              "    <tr>\n",
              "      <th>1453</th>\n",
              "      <td>100</td>\n",
              "      <td>1999.0</td>\n",
              "      <td>8.0</td>\n",
              "      <td>66.0</td>\n",
              "      <td>2117691.0</td>\n",
              "      <td>2911825.0</td>\n",
              "      <td>2018.0</td>\n",
              "      <td>1923.0</td>\n",
              "      <td>2015.0</td>\n",
              "      <td>2183869.0</td>\n",
              "      <td>14.596609</td>\n",
              "      <td>16</td>\n",
              "    </tr>\n",
              "    <tr>\n",
              "      <th>1454</th>\n",
              "      <td>100</td>\n",
              "      <td>2012.0</td>\n",
              "      <td>6.0</td>\n",
              "      <td>120.0</td>\n",
              "      <td>1800000.0</td>\n",
              "      <td>2500000.0</td>\n",
              "      <td>2018.0</td>\n",
              "      <td>1923.0</td>\n",
              "      <td>2015.0</td>\n",
              "      <td>1900000.0</td>\n",
              "      <td>14.457364</td>\n",
              "      <td>16</td>\n",
              "    </tr>\n",
              "    <tr>\n",
              "      <th>1455</th>\n",
              "      <td>100</td>\n",
              "      <td>1986.0</td>\n",
              "      <td>2.0</td>\n",
              "      <td>94.0</td>\n",
              "      <td>3500000.0</td>\n",
              "      <td>4500000.0</td>\n",
              "      <td>2018.0</td>\n",
              "      <td>1923.0</td>\n",
              "      <td>2015.0</td>\n",
              "      <td>4343000.0</td>\n",
              "      <td>15.284076</td>\n",
              "      <td>16</td>\n",
              "    </tr>\n",
              "    <tr>\n",
              "      <th>1456</th>\n",
              "      <td>100</td>\n",
              "      <td>1989.0</td>\n",
              "      <td>76.0</td>\n",
              "      <td>114.0</td>\n",
              "      <td>3000000.0</td>\n",
              "      <td>5000000.0</td>\n",
              "      <td>2017.0</td>\n",
              "      <td>1923.0</td>\n",
              "      <td>2015.0</td>\n",
              "      <td>3300000.0</td>\n",
              "      <td>15.009433</td>\n",
              "      <td>16</td>\n",
              "    </tr>\n",
              "    <tr>\n",
              "      <th>1457</th>\n",
              "      <td>100</td>\n",
              "      <td>1978.0</td>\n",
              "      <td>2.0</td>\n",
              "      <td>52.0</td>\n",
              "      <td>1500000.0</td>\n",
              "      <td>2500000.0</td>\n",
              "      <td>2017.0</td>\n",
              "      <td>1923.0</td>\n",
              "      <td>2015.0</td>\n",
              "      <td>1500000.0</td>\n",
              "      <td>14.220976</td>\n",
              "      <td>16</td>\n",
              "    </tr>\n",
              "  </tbody>\n",
              "</table>\n",
              "<p>1128 rows × 12 columns</p>\n",
              "</div>"
            ],
            "text/plain": [
              "      num_author  creation_year  height  width  estimate_low  estimate_high  \\\n",
              "0              1         1983.0    14.0   10.0       80669.0       141170.0   \n",
              "2              1         1984.0    20.0   16.0       91964.0       118239.0   \n",
              "3              1         1982.0     8.0   16.0      131377.0       197066.0   \n",
              "5              1         1982.0     6.0   20.0       91964.0       131378.0   \n",
              "6              1         1986.0    22.0   22.0      131377.0       197066.0   \n",
              "...          ...            ...     ...    ...           ...            ...   \n",
              "1453         100         1999.0     8.0   66.0     2117691.0      2911825.0   \n",
              "1454         100         2012.0     6.0  120.0     1800000.0      2500000.0   \n",
              "1455         100         1986.0     2.0   94.0     3500000.0      4500000.0   \n",
              "1456         100         1989.0    76.0  114.0     3000000.0      5000000.0   \n",
              "1457         100         1978.0     2.0   52.0     1500000.0      2500000.0   \n",
              "\n",
              "      auction_year  artist_birth  artist_death  hammer price  \\\n",
              "0           2018.0        1928.0        1987.0      161338.0   \n",
              "2           2018.0        1928.0        1987.0      128750.0   \n",
              "3           2018.0        1928.0        1987.0      105102.0   \n",
              "5           2018.0        1928.0        1987.0       72258.0   \n",
              "6           2018.0        1928.0        1987.0      170791.0   \n",
              "...            ...           ...           ...           ...   \n",
              "1453        2018.0        1923.0        2015.0     2183869.0   \n",
              "1454        2018.0        1923.0        2015.0     1900000.0   \n",
              "1455        2018.0        1923.0        2015.0     4343000.0   \n",
              "1456        2017.0        1923.0        2015.0     3300000.0   \n",
              "1457        2017.0        1923.0        2015.0     1500000.0   \n",
              "\n",
              "      log hammer price binned  \n",
              "0            11.991257     12  \n",
              "2            11.765628     12  \n",
              "3            11.562687     12  \n",
              "5            11.187998     12  \n",
              "6            12.048196     14  \n",
              "...                ...    ...  \n",
              "1453         14.596609     16  \n",
              "1454         14.457364     16  \n",
              "1455         15.284076     16  \n",
              "1456         15.009433     16  \n",
              "1457         14.220976     16  \n",
              "\n",
              "[1128 rows x 12 columns]"
            ]
          },
          "metadata": {
            "tags": []
          },
          "execution_count": 73
        }
      ]
    },
    {
      "cell_type": "code",
      "metadata": {
        "id": "pU5MPJ31CLxr",
        "colab_type": "code",
        "outputId": "35d4063b-6473-4a83-cace-ce793a3e0a55",
        "colab": {
          "base_uri": "https://localhost:8080/",
          "height": 187
        }
      },
      "source": [
        "df.dtypes"
      ],
      "execution_count": 136,
      "outputs": [
        {
          "output_type": "execute_result",
          "data": {
            "text/plain": [
              "num_author         int64\n",
              "creation_year    float64\n",
              "height           float64\n",
              "width            float64\n",
              "estimate_low     float64\n",
              "estimate_high    float64\n",
              "auction_year     float64\n",
              "artist_birth     float64\n",
              "hammer price     float64\n",
              "dtype: object"
            ]
          },
          "metadata": {
            "tags": []
          },
          "execution_count": 136
        }
      ]
    },
    {
      "cell_type": "code",
      "metadata": {
        "id": "qRER55fhXrt_",
        "colab_type": "code",
        "colab": {}
      },
      "source": [
        "df['log hammer price'] = np.log(df['hammer price'])"
      ],
      "execution_count": 0,
      "outputs": []
    },
    {
      "cell_type": "code",
      "metadata": {
        "id": "ffBAia3HXz6y",
        "colab_type": "code",
        "colab": {
          "base_uri": "https://localhost:8080/",
          "height": 204
        },
        "outputId": "18f406c4-5577-4613-8e01-e50c52ee395b"
      },
      "source": [
        "df.dtypes"
      ],
      "execution_count": 138,
      "outputs": [
        {
          "output_type": "execute_result",
          "data": {
            "text/plain": [
              "num_author            int64\n",
              "creation_year       float64\n",
              "height              float64\n",
              "width               float64\n",
              "estimate_low        float64\n",
              "estimate_high       float64\n",
              "auction_year        float64\n",
              "artist_birth        float64\n",
              "hammer price        float64\n",
              "log hammer price    float64\n",
              "dtype: object"
            ]
          },
          "metadata": {
            "tags": []
          },
          "execution_count": 138
        }
      ]
    },
    {
      "cell_type": "code",
      "metadata": {
        "id": "8Xy4E5YFWhSt",
        "colab_type": "code",
        "colab": {
          "base_uri": "https://localhost:8080/",
          "height": 315
        },
        "outputId": "753a42ea-cb01-40a9-afce-bf06142c0e06"
      },
      "source": [
        "df.hist(column='log hammer price', bins=10)"
      ],
      "execution_count": 139,
      "outputs": [
        {
          "output_type": "execute_result",
          "data": {
            "text/plain": [
              "array([[<matplotlib.axes._subplots.AxesSubplot object at 0x7fd161bc39b0>]],\n",
              "      dtype=object)"
            ]
          },
          "metadata": {
            "tags": []
          },
          "execution_count": 139
        },
        {
          "output_type": "display_data",
          "data": {
            "image/png": "[encoded data removed]",
            "text/plain": [
              "<Figure size 432x288 with 1 Axes>"
            ]
          },
          "metadata": {
            "tags": []
          }
        }
      ]
    },
    {
      "cell_type": "code",
      "metadata": {
        "id": "ATx94FXNWhaV",
        "colab_type": "code",
        "colab": {
          "base_uri": "https://localhost:8080/",
          "height": 476
        },
        "outputId": "d3c14b98-e390-4917-b888-42a8265f3df0"
      },
      "source": [
        "bins = [0,4,6,8,10,12,14,16,18]\n",
        "labels = [0,1,2,3,4,5,6,7]\n",
        "df['binned'] = pd.cut(df['log hammer price'], bins=bins, labels=labels)\n",
        "print(df)"
      ],
      "execution_count": 176,
      "outputs": [
        {
          "output_type": "stream",
          "text": [
            "      num_author  creation_year  height  width  estimate_low  estimate_high  \\\n",
            "0              1         1983.0    14.0   10.0       80669.0       141170.0   \n",
            "2              1         1984.0    20.0   16.0       91964.0       118239.0   \n",
            "3              1         1982.0     8.0   16.0      131377.0       197066.0   \n",
            "5              1         1982.0     6.0   20.0       91964.0       131378.0   \n",
            "6              1         1986.0    22.0   22.0      131377.0       197066.0   \n",
            "...          ...            ...     ...    ...           ...            ...   \n",
            "1453         100         1999.0     8.0   66.0     2117691.0      2911825.0   \n",
            "1454         100         2012.0     6.0  120.0     1800000.0      2500000.0   \n",
            "1455         100         1986.0     2.0   94.0     3500000.0      4500000.0   \n",
            "1456         100         1989.0    76.0  114.0     3000000.0      5000000.0   \n",
            "1457         100         1978.0     2.0   52.0     1500000.0      2500000.0   \n",
            "\n",
            "      auction_year  artist_birth  hammer price  log hammer price binned  \n",
            "0           2018.0        1928.0      161338.0         11.991257      4  \n",
            "2           2018.0        1928.0      128750.0         11.765628      4  \n",
            "3           2018.0        1928.0      105102.0         11.562687      4  \n",
            "5           2018.0        1928.0       72258.0         11.187998      4  \n",
            "6           2018.0        1928.0      170791.0         12.048196      5  \n",
            "...            ...           ...           ...               ...    ...  \n",
            "1453        2018.0        1923.0     2183869.0         14.596609      6  \n",
            "1454        2018.0        1923.0     1900000.0         14.457364      6  \n",
            "1455        2018.0        1923.0     4343000.0         15.284076      6  \n",
            "1456        2017.0        1923.0     3300000.0         15.009433      6  \n",
            "1457        2017.0        1923.0     1500000.0         14.220976      6  \n",
            "\n",
            "[1101 rows x 11 columns]\n"
          ],
          "name": "stdout"
        }
      ]
    },
    {
      "cell_type": "code",
      "metadata": {
        "id": "mY7cr3HETvo4",
        "colab_type": "code",
        "colab": {}
      },
      "source": [
        "dataset = df.values\n",
        "X = dataset[:,0:8]\n",
        "Y = dataset[:,10]"
      ],
      "execution_count": 0,
      "outputs": []
    },
    {
      "cell_type": "code",
      "metadata": {
        "id": "KW71jXL5bEWR",
        "colab_type": "code",
        "outputId": "b683e7b7-5de7-4f63-cc1a-24791a797d27",
        "colab": {
          "base_uri": "https://localhost:8080/",
          "height": 136
        }
      },
      "source": [
        "X"
      ],
      "execution_count": 178,
      "outputs": [
        {
          "output_type": "execute_result",
          "data": {
            "text/plain": [
              "array([[1, 1983.0, 14.0, ..., 141170.0, 2018.0, 1928.0],\n",
              "       [1, 1984.0, 20.0, ..., 118239.0, 2018.0, 1928.0],\n",
              "       [1, 1982.0, 8.0, ..., 197066.0, 2018.0, 1928.0],\n",
              "       ...,\n",
              "       [100, 1986.0, 2.0, ..., 4500000.0, 2018.0, 1923.0],\n",
              "       [100, 1989.0, 76.0, ..., 5000000.0, 2017.0, 1923.0],\n",
              "       [100, 1978.0, 2.0, ..., 2500000.0, 2017.0, 1923.0]], dtype=object)"
            ]
          },
          "metadata": {
            "tags": []
          },
          "execution_count": 178
        }
      ]
    },
    {
      "cell_type": "code",
      "metadata": {
        "id": "cI9UuVfKab65",
        "colab_type": "code",
        "colab": {
          "base_uri": "https://localhost:8080/",
          "height": 34
        },
        "outputId": "d4c8871c-f183-4dfc-f693-0c28e30b244a"
      },
      "source": [
        "Y"
      ],
      "execution_count": 179,
      "outputs": [
        {
          "output_type": "execute_result",
          "data": {
            "text/plain": [
              "array([4, 4, 4, ..., 6, 6, 6], dtype=object)"
            ]
          },
          "metadata": {
            "tags": []
          },
          "execution_count": 179
        }
      ]
    },
    {
      "cell_type": "code",
      "metadata": {
        "id": "83B-mqxyjo1a",
        "colab_type": "code",
        "colab": {
          "base_uri": "https://localhost:8080/",
          "height": 136
        },
        "outputId": "1df67a48-3c90-4003-e7eb-ab3b387501e5"
      },
      "source": [
        "from sklearn.preprocessing import LabelEncoder\n",
        "from keras.utils import np_utils\n",
        "encoder = LabelEncoder()\n",
        "encoder.fit(Y)\n",
        "encoded_Y = encoder.transform(Y)\n",
        "dummy_y = np_utils.to_categorical(encoded_Y) \n",
        "dummy_y"
      ],
      "execution_count": 184,
      "outputs": [
        {
          "output_type": "execute_result",
          "data": {
            "text/plain": [
              "array([[0., 0., 0., ..., 0., 0., 0.],\n",
              "       [0., 0., 0., ..., 0., 0., 0.],\n",
              "       [0., 0., 0., ..., 0., 0., 0.],\n",
              "       ...,\n",
              "       [0., 0., 0., ..., 0., 1., 0.],\n",
              "       [0., 0., 0., ..., 0., 1., 0.],\n",
              "       [0., 0., 0., ..., 0., 1., 0.]], dtype=float32)"
            ]
          },
          "metadata": {
            "tags": []
          },
          "execution_count": 184
        }
      ]
    },
    {
      "cell_type": "code",
      "metadata": {
        "id": "S9QfVGgLbZ-x",
        "colab_type": "code",
        "outputId": "a8072555-48c0-42f1-a2f8-a7fac2678af7",
        "colab": {
          "base_uri": "https://localhost:8080/",
          "height": 51
        }
      },
      "source": [
        "from sklearn.model_selection import train_test_split\n",
        "X_train, X_test, Y_train, Y_test = train_test_split(X, dummy_y, test_size=0.25)\n",
        "print(X_train.shape, Y_train.shape,X_test.shape, Y_test.shape)\n",
        "print(X_test[0])"
      ],
      "execution_count": 196,
      "outputs": [
        {
          "output_type": "stream",
          "text": [
            "(825, 8) (825, 7) (276, 8) (276, 7)\n",
            "[60 1926.0 8.0 21.0 551525.0 827288.0 2018.0 1891.0]\n"
          ],
          "name": "stdout"
        }
      ]
    },
    {
      "cell_type": "code",
      "metadata": {
        "id": "QkBCX8aHRWLF",
        "colab_type": "code",
        "colab": {
          "base_uri": "https://localhost:8080/",
          "height": 201
        },
        "outputId": "f233cde0-32e8-4d97-85a8-cfdf3baaf676"
      },
      "source": [
        "#X_train = np.where(np.isfinite(X_train), X_train, 0)\n",
        "#X_test = np.where(np.isfinite(X_test), X_test, 0)\n",
        "#print(X_train.shape)\n",
        "#print(X_test.shape)\n",
        "#Y_train = np.where(np.isfinite(Y_train), Y_train, 0)\n",
        "#Y_test = np.where(np.isfinite(Y_test), Y_test, 0)"
      ],
      "execution_count": 39,
      "outputs": [
        {
          "output_type": "error",
          "ename": "TypeError",
          "evalue": "ignored",
          "traceback": [
            "\u001b[0;31m---------------------------------------------------------------------------\u001b[0m",
            "\u001b[0;31mTypeError\u001b[0m                                 Traceback (most recent call last)",
            "\u001b[0;32m<ipython-input-39-e19e8dee4b4a>\u001b[0m in \u001b[0;36m<module>\u001b[0;34m()\u001b[0m\n\u001b[0;32m----> 1\u001b[0;31m \u001b[0mX_train\u001b[0m \u001b[0;34m=\u001b[0m \u001b[0mnp\u001b[0m\u001b[0;34m.\u001b[0m\u001b[0mwhere\u001b[0m\u001b[0;34m(\u001b[0m\u001b[0mnp\u001b[0m\u001b[0;34m.\u001b[0m\u001b[0misfinite\u001b[0m\u001b[0;34m(\u001b[0m\u001b[0mX_train\u001b[0m\u001b[0;34m)\u001b[0m\u001b[0;34m,\u001b[0m \u001b[0mX_train\u001b[0m\u001b[0;34m,\u001b[0m \u001b[0;36m0\u001b[0m\u001b[0;34m)\u001b[0m\u001b[0;34m\u001b[0m\u001b[0;34m\u001b[0m\u001b[0m\n\u001b[0m\u001b[1;32m      2\u001b[0m \u001b[0mX_test\u001b[0m \u001b[0;34m=\u001b[0m \u001b[0mnp\u001b[0m\u001b[0;34m.\u001b[0m\u001b[0mwhere\u001b[0m\u001b[0;34m(\u001b[0m\u001b[0mnp\u001b[0m\u001b[0;34m.\u001b[0m\u001b[0misfinite\u001b[0m\u001b[0;34m(\u001b[0m\u001b[0mX_test\u001b[0m\u001b[0;34m)\u001b[0m\u001b[0;34m,\u001b[0m \u001b[0mX_test\u001b[0m\u001b[0;34m,\u001b[0m \u001b[0;36m0\u001b[0m\u001b[0;34m)\u001b[0m\u001b[0;34m\u001b[0m\u001b[0;34m\u001b[0m\u001b[0m\n",
            "\u001b[0;31mTypeError\u001b[0m: ufunc 'isfinite' not supported for the input types, and the inputs could not be safely coerced to any supported types according to the casting rule ''safe''"
          ]
        }
      ]
    },
    {
      "cell_type": "code",
      "metadata": {
        "id": "kNaJwVCJPxC1",
        "colab_type": "code",
        "outputId": "cf7e4f55-d040-4521-98fe-6905e8482ef0",
        "colab": {
          "base_uri": "https://localhost:8080/",
          "height": 136
        }
      },
      "source": [
        "Y_test"
      ],
      "execution_count": 197,
      "outputs": [
        {
          "output_type": "execute_result",
          "data": {
            "text/plain": [
              "array([[0., 0., 0., ..., 1., 0., 0.],\n",
              "       [0., 0., 0., ..., 1., 0., 0.],\n",
              "       [0., 0., 0., ..., 0., 1., 0.],\n",
              "       ...,\n",
              "       [0., 0., 0., ..., 0., 0., 0.],\n",
              "       [0., 0., 0., ..., 1., 0., 0.],\n",
              "       [0., 0., 0., ..., 0., 1., 0.]], dtype=float32)"
            ]
          },
          "metadata": {
            "tags": []
          },
          "execution_count": 197
        }
      ]
    },
    {
      "cell_type": "code",
      "metadata": {
        "id": "jDebE2Vubjlb",
        "colab_type": "code",
        "colab": {
          "base_uri": "https://localhost:8080/",
          "height": 221
        },
        "outputId": "533bccaa-4f21-4ac0-88b6-915fbb72ea2d"
      },
      "source": [
        "#maxPrice = Y_train.max()\n",
        "#Y_train = Y_train / maxPrice\n",
        "#Y_test = Y_test / maxPrice\n",
        "df.dtypes"
      ],
      "execution_count": 198,
      "outputs": [
        {
          "output_type": "execute_result",
          "data": {
            "text/plain": [
              "num_author             int64\n",
              "creation_year        float64\n",
              "height               float64\n",
              "width                float64\n",
              "estimate_low         float64\n",
              "estimate_high        float64\n",
              "auction_year         float64\n",
              "artist_birth         float64\n",
              "hammer price         float64\n",
              "log hammer price     float64\n",
              "binned              category\n",
              "dtype: object"
            ]
          },
          "metadata": {
            "tags": []
          },
          "execution_count": 198
        }
      ]
    },
    {
      "cell_type": "code",
      "metadata": {
        "id": "lTuyXbKObmx4",
        "colab_type": "code",
        "outputId": "ff94f07a-79ae-433a-b21a-1bdfb106be45",
        "colab": {
          "base_uri": "https://localhost:8080/",
          "height": 34
        }
      },
      "source": [
        "print(X_train[1].shape,X_test.shape,Y_train.shape,Y_test.shape)"
      ],
      "execution_count": 199,
      "outputs": [
        {
          "output_type": "stream",
          "text": [
            "(8,) (276, 8) (825, 7) (276, 7)\n"
          ],
          "name": "stdout"
        }
      ]
    },
    {
      "cell_type": "code",
      "metadata": {
        "id": "h9rfqdfDXiFz",
        "colab_type": "code",
        "outputId": "fe83b576-c494-4077-8aa9-0c863655bb66",
        "colab": {
          "base_uri": "https://localhost:8080/",
          "height": 34
        }
      },
      "source": [
        "X_train[1].shape"
      ],
      "execution_count": 200,
      "outputs": [
        {
          "output_type": "execute_result",
          "data": {
            "text/plain": [
              "(8,)"
            ]
          },
          "metadata": {
            "tags": []
          },
          "execution_count": 200
        }
      ]
    },
    {
      "cell_type": "code",
      "metadata": {
        "id": "SsH8c0v6cqwu",
        "colab_type": "code",
        "outputId": "5109b52c-aea8-44a6-edff-27fe3ef89760",
        "colab": {
          "base_uri": "https://localhost:8080/",
          "height": 34
        }
      },
      "source": [
        "from sklearn.preprocessing import StandardScaler\n",
        "scaler = StandardScaler()\n",
        "\n",
        "scaler.fit(X_train)\n",
        "\n",
        "X_train_scaled = scaler.transform(X_train)\n",
        "X_test_scaled = scaler.transform(X_test)\n",
        "\n",
        "#print(X_train[0])\n",
        "#print(X_train_scaled[0])\n",
        "print(X_test[0])\n",
        "#print(X_test_scaled[0])\n"
      ],
      "execution_count": 201,
      "outputs": [
        {
          "output_type": "stream",
          "text": [
            "[60 1926.0 8.0 21.0 551525.0 827288.0 2018.0 1891.0]\n"
          ],
          "name": "stdout"
        }
      ]
    },
    {
      "cell_type": "code",
      "metadata": {
        "id": "qpd6nLwSSMaz",
        "colab_type": "code",
        "colab": {}
      },
      "source": [
        "from keras.models import Sequential\n",
        "from keras.layers import Dense, Conv2D, Flatten\n",
        "\n",
        "#Create model\n",
        "model = Sequential()\n",
        "\n",
        "#Add more layers\n",
        "model.add(Dense(16, activation='relu', input_shape = (8,), kernel_initializer='normal'))\n",
        "model.add(Dense(16, activation='relu', kernel_initializer='normal'))\n",
        "model.add(Dense(7, activation='softmax', kernel_initializer='normal'))"
      ],
      "execution_count": 0,
      "outputs": []
    },
    {
      "cell_type": "code",
      "metadata": {
        "id": "Yc7LBgvMYWK7",
        "colab_type": "code",
        "colab": {}
      },
      "source": [
        "model.compile(optimizer='adam', loss='categorical_crossentropy',metrics=['accuracy'])"
      ],
      "execution_count": 0,
      "outputs": []
    },
    {
      "cell_type": "code",
      "metadata": {
        "id": "dNR_ChetYg_Y",
        "colab_type": "code",
        "outputId": "984b1039-6f29-4c95-d489-e7039c7b6f6a",
        "colab": {
          "base_uri": "https://localhost:8080/",
          "height": 1000
        }
      },
      "source": [
        "hist = model.fit(X_train_scaled, Y_train, batch_size=32, epochs=60,validation_split=0.1)"
      ],
      "execution_count": 230,
      "outputs": [
        {
          "output_type": "stream",
          "text": [
            "Train on 742 samples, validate on 83 samples\n",
            "Epoch 1/60\n",
            "742/742 [==============================] - 1s 852us/step - loss: 1.9358 - acc: 0.3140 - val_loss: 1.9223 - val_acc: 0.3735\n",
            "Epoch 2/60\n",
            "742/742 [==============================] - 0s 50us/step - loss: 1.9057 - acc: 0.3881 - val_loss: 1.8839 - val_acc: 0.3976\n",
            "Epoch 3/60\n",
            "742/742 [==============================] - 0s 57us/step - loss: 1.8454 - acc: 0.4084 - val_loss: 1.7994 - val_acc: 0.4337\n",
            "Epoch 4/60\n",
            "742/742 [==============================] - 0s 56us/step - loss: 1.7262 - acc: 0.4111 - val_loss: 1.6521 - val_acc: 0.4217\n",
            "Epoch 5/60\n",
            "742/742 [==============================] - 0s 50us/step - loss: 1.5609 - acc: 0.4124 - val_loss: 1.4884 - val_acc: 0.4217\n",
            "Epoch 6/60\n",
            "742/742 [==============================] - 0s 50us/step - loss: 1.4087 - acc: 0.3976 - val_loss: 1.3776 - val_acc: 0.4217\n",
            "Epoch 7/60\n",
            "742/742 [==============================] - 0s 53us/step - loss: 1.3075 - acc: 0.4367 - val_loss: 1.3077 - val_acc: 0.4217\n",
            "Epoch 8/60\n",
            "742/742 [==============================] - 0s 57us/step - loss: 1.2363 - acc: 0.4650 - val_loss: 1.2573 - val_acc: 0.4699\n",
            "Epoch 9/60\n",
            "742/742 [==============================] - 0s 50us/step - loss: 1.1834 - acc: 0.4784 - val_loss: 1.2178 - val_acc: 0.4458\n",
            "Epoch 10/60\n",
            "742/742 [==============================] - 0s 55us/step - loss: 1.1410 - acc: 0.5081 - val_loss: 1.1846 - val_acc: 0.4699\n",
            "Epoch 11/60\n",
            "742/742 [==============================] - 0s 53us/step - loss: 1.1059 - acc: 0.5243 - val_loss: 1.1552 - val_acc: 0.4578\n",
            "Epoch 12/60\n",
            "742/742 [==============================] - 0s 55us/step - loss: 1.0762 - acc: 0.5256 - val_loss: 1.1327 - val_acc: 0.4699\n",
            "Epoch 13/60\n",
            "742/742 [==============================] - 0s 64us/step - loss: 1.0520 - acc: 0.5296 - val_loss: 1.1150 - val_acc: 0.4819\n",
            "Epoch 14/60\n",
            "742/742 [==============================] - 0s 50us/step - loss: 1.0289 - acc: 0.5377 - val_loss: 1.1025 - val_acc: 0.4940\n",
            "Epoch 15/60\n",
            "742/742 [==============================] - 0s 66us/step - loss: 1.0097 - acc: 0.5485 - val_loss: 1.0856 - val_acc: 0.4940\n",
            "Epoch 16/60\n",
            "742/742 [==============================] - 0s 71us/step - loss: 0.9880 - acc: 0.5539 - val_loss: 1.0695 - val_acc: 0.4940\n",
            "Epoch 17/60\n",
            "742/742 [==============================] - 0s 60us/step - loss: 0.9701 - acc: 0.5593 - val_loss: 1.0573 - val_acc: 0.5422\n",
            "Epoch 18/60\n",
            "742/742 [==============================] - 0s 52us/step - loss: 0.9545 - acc: 0.5741 - val_loss: 1.0435 - val_acc: 0.5542\n",
            "Epoch 19/60\n",
            "742/742 [==============================] - 0s 49us/step - loss: 0.9368 - acc: 0.5916 - val_loss: 1.0309 - val_acc: 0.5663\n",
            "Epoch 20/60\n",
            "742/742 [==============================] - 0s 52us/step - loss: 0.9211 - acc: 0.6024 - val_loss: 1.0178 - val_acc: 0.5663\n",
            "Epoch 21/60\n",
            "742/742 [==============================] - 0s 53us/step - loss: 0.9070 - acc: 0.6078 - val_loss: 1.0081 - val_acc: 0.5783\n",
            "Epoch 22/60\n",
            "742/742 [==============================] - 0s 55us/step - loss: 0.8939 - acc: 0.6199 - val_loss: 0.9909 - val_acc: 0.5783\n",
            "Epoch 23/60\n",
            "742/742 [==============================] - 0s 50us/step - loss: 0.8811 - acc: 0.6402 - val_loss: 0.9845 - val_acc: 0.5783\n",
            "Epoch 24/60\n",
            "742/742 [==============================] - 0s 61us/step - loss: 0.8674 - acc: 0.6429 - val_loss: 0.9695 - val_acc: 0.6024\n",
            "Epoch 25/60\n",
            "742/742 [==============================] - 0s 51us/step - loss: 0.8553 - acc: 0.6509 - val_loss: 0.9617 - val_acc: 0.6145\n",
            "Epoch 26/60\n",
            "742/742 [==============================] - 0s 50us/step - loss: 0.8456 - acc: 0.6536 - val_loss: 0.9481 - val_acc: 0.6024\n",
            "Epoch 27/60\n",
            "742/742 [==============================] - 0s 50us/step - loss: 0.8351 - acc: 0.6523 - val_loss: 0.9373 - val_acc: 0.6145\n",
            "Epoch 28/60\n",
            "742/742 [==============================] - 0s 53us/step - loss: 0.8235 - acc: 0.6617 - val_loss: 0.9309 - val_acc: 0.6265\n",
            "Epoch 29/60\n",
            "742/742 [==============================] - 0s 59us/step - loss: 0.8151 - acc: 0.6644 - val_loss: 0.9181 - val_acc: 0.6265\n",
            "Epoch 30/60\n",
            "742/742 [==============================] - 0s 51us/step - loss: 0.8063 - acc: 0.6685 - val_loss: 0.9112 - val_acc: 0.6386\n",
            "Epoch 31/60\n",
            "742/742 [==============================] - 0s 48us/step - loss: 0.7968 - acc: 0.6765 - val_loss: 0.8962 - val_acc: 0.6506\n",
            "Epoch 32/60\n",
            "742/742 [==============================] - 0s 50us/step - loss: 0.7873 - acc: 0.6779 - val_loss: 0.8902 - val_acc: 0.6506\n",
            "Epoch 33/60\n",
            "742/742 [==============================] - 0s 52us/step - loss: 0.7818 - acc: 0.6806 - val_loss: 0.8780 - val_acc: 0.6386\n",
            "Epoch 34/60\n",
            "742/742 [==============================] - 0s 56us/step - loss: 0.7752 - acc: 0.6860 - val_loss: 0.8715 - val_acc: 0.6506\n",
            "Epoch 35/60\n",
            "742/742 [==============================] - 0s 56us/step - loss: 0.7646 - acc: 0.6846 - val_loss: 0.8641 - val_acc: 0.6506\n",
            "Epoch 36/60\n",
            "742/742 [==============================] - 0s 53us/step - loss: 0.7567 - acc: 0.6941 - val_loss: 0.8567 - val_acc: 0.6747\n",
            "Epoch 37/60\n",
            "742/742 [==============================] - 0s 50us/step - loss: 0.7489 - acc: 0.6981 - val_loss: 0.8500 - val_acc: 0.6627\n",
            "Epoch 38/60\n",
            "742/742 [==============================] - 0s 52us/step - loss: 0.7433 - acc: 0.7089 - val_loss: 0.8395 - val_acc: 0.6627\n",
            "Epoch 39/60\n",
            "742/742 [==============================] - 0s 51us/step - loss: 0.7365 - acc: 0.7062 - val_loss: 0.8356 - val_acc: 0.6747\n",
            "Epoch 40/60\n",
            "742/742 [==============================] - 0s 53us/step - loss: 0.7317 - acc: 0.6954 - val_loss: 0.8258 - val_acc: 0.6506\n",
            "Epoch 41/60\n",
            "742/742 [==============================] - 0s 63us/step - loss: 0.7231 - acc: 0.7129 - val_loss: 0.8191 - val_acc: 0.6627\n",
            "Epoch 42/60\n",
            "742/742 [==============================] - 0s 56us/step - loss: 0.7177 - acc: 0.7210 - val_loss: 0.8073 - val_acc: 0.6506\n",
            "Epoch 43/60\n",
            "742/742 [==============================] - 0s 53us/step - loss: 0.7112 - acc: 0.7237 - val_loss: 0.8006 - val_acc: 0.6506\n",
            "Epoch 44/60\n",
            "742/742 [==============================] - 0s 59us/step - loss: 0.7050 - acc: 0.7264 - val_loss: 0.7945 - val_acc: 0.6506\n",
            "Epoch 45/60\n",
            "742/742 [==============================] - 0s 52us/step - loss: 0.7000 - acc: 0.7251 - val_loss: 0.7868 - val_acc: 0.6506\n",
            "Epoch 46/60\n",
            "742/742 [==============================] - 0s 57us/step - loss: 0.6934 - acc: 0.7332 - val_loss: 0.7823 - val_acc: 0.6747\n",
            "Epoch 47/60\n",
            "742/742 [==============================] - 0s 57us/step - loss: 0.6887 - acc: 0.7345 - val_loss: 0.7760 - val_acc: 0.6627\n",
            "Epoch 48/60\n",
            "742/742 [==============================] - 0s 51us/step - loss: 0.6811 - acc: 0.7332 - val_loss: 0.7706 - val_acc: 0.6506\n",
            "Epoch 49/60\n",
            "742/742 [==============================] - 0s 50us/step - loss: 0.6773 - acc: 0.7399 - val_loss: 0.7671 - val_acc: 0.6627\n",
            "Epoch 50/60\n",
            "742/742 [==============================] - 0s 54us/step - loss: 0.6693 - acc: 0.7426 - val_loss: 0.7582 - val_acc: 0.6747\n",
            "Epoch 51/60\n",
            "742/742 [==============================] - 0s 52us/step - loss: 0.6668 - acc: 0.7399 - val_loss: 0.7562 - val_acc: 0.6867\n",
            "Epoch 52/60\n",
            "742/742 [==============================] - 0s 46us/step - loss: 0.6605 - acc: 0.7453 - val_loss: 0.7517 - val_acc: 0.6867\n",
            "Epoch 53/60\n",
            "742/742 [==============================] - 0s 54us/step - loss: 0.6559 - acc: 0.7520 - val_loss: 0.7434 - val_acc: 0.6867\n",
            "Epoch 54/60\n",
            "742/742 [==============================] - 0s 54us/step - loss: 0.6501 - acc: 0.7520 - val_loss: 0.7358 - val_acc: 0.6988\n",
            "Epoch 55/60\n",
            "742/742 [==============================] - 0s 49us/step - loss: 0.6461 - acc: 0.7507 - val_loss: 0.7329 - val_acc: 0.7108\n",
            "Epoch 56/60\n",
            "742/742 [==============================] - 0s 52us/step - loss: 0.6447 - acc: 0.7453 - val_loss: 0.7342 - val_acc: 0.6988\n",
            "Epoch 57/60\n",
            "742/742 [==============================] - 0s 54us/step - loss: 0.6379 - acc: 0.7520 - val_loss: 0.7238 - val_acc: 0.6988\n",
            "Epoch 58/60\n",
            "742/742 [==============================] - 0s 61us/step - loss: 0.6363 - acc: 0.7561 - val_loss: 0.7188 - val_acc: 0.7108\n",
            "Epoch 59/60\n",
            "742/742 [==============================] - 0s 52us/step - loss: 0.6312 - acc: 0.7534 - val_loss: 0.7196 - val_acc: 0.7108\n",
            "Epoch 60/60\n",
            "742/742 [==============================] - 0s 47us/step - loss: 0.6279 - acc: 0.7615 - val_loss: 0.7142 - val_acc: 0.7108\n"
          ],
          "name": "stdout"
        }
      ]
    },
    {
      "cell_type": "code",
      "metadata": {
        "id": "Z5OheaZjYxZu",
        "colab_type": "code",
        "outputId": "f8dba850-e734-4276-a98d-e842e28ee9b2",
        "colab": {
          "base_uri": "https://localhost:8080/",
          "height": 51
        }
      },
      "source": [
        "model.evaluate(X_test_scaled, Y_test)"
      ],
      "execution_count": 231,
      "outputs": [
        {
          "output_type": "stream",
          "text": [
            "276/276 [==============================] - 0s 60us/step\n"
          ],
          "name": "stdout"
        },
        {
          "output_type": "execute_result",
          "data": {
            "text/plain": [
              "[0.664804320404495, 0.7246376802955848]"
            ]
          },
          "metadata": {
            "tags": []
          },
          "execution_count": 231
        }
      ]
    },
    {
      "cell_type": "code",
      "metadata": {
        "id": "AOjjuB4cY-8Z",
        "colab_type": "code",
        "outputId": "4fa31a74-d62d-4c7b-adad-cdfac5e8b906",
        "colab": {
          "base_uri": "https://localhost:8080/",
          "height": 295
        }
      },
      "source": [
        "import matplotlib.pyplot as plt\n",
        "\n",
        "plt.plot(hist.history['loss'])\n",
        "plt.plot(hist.history['val_loss'])\n",
        "plt.title('Model loss')\n",
        "plt.ylabel('Loss')\n",
        "plt.xlabel('Epoch')\n",
        "plt.legend(['Train', 'Val'], loc = 'upper right')\n",
        "plt.show()"
      ],
      "execution_count": 232,
      "outputs": [
        {
          "output_type": "display_data",
          "data": {
            "image/png": "[encoded data removed]",
            "text/plain": [
              "<Figure size 432x288 with 1 Axes>"
            ]
          },
          "metadata": {
            "tags": []
          }
        }
      ]
    },
    {
      "cell_type": "code",
      "metadata": {
        "id": "j_JDsq7JZC6-",
        "colab_type": "code",
        "outputId": "d8c08238-b98b-45b7-b10a-cbda7d3d948d",
        "colab": {
          "base_uri": "https://localhost:8080/",
          "height": 295
        }
      },
      "source": [
        "plt.plot(hist.history['acc'])\n",
        "plt.plot(hist.history['val_acc'])\n",
        "plt.title('Model accuracy')\n",
        "plt.ylabel('Accuracy')\n",
        "plt.xlabel('Epoch')\n",
        "plt.legend(['Train', 'Val'], loc = 'lower right')\n",
        "plt.show()"
      ],
      "execution_count": 233,
      "outputs": [
        {
          "output_type": "display_data",
          "data": {
            "image/png": "[encoded data removed]",
            "text/plain": [
              "<Figure size 432x288 with 1 Axes>"
            ]
          },
          "metadata": {
            "tags": []
          }
        }
      ]
    },
    {
      "cell_type": "code",
      "metadata": {
        "id": "t2kX3ymqZFMe",
        "colab_type": "code",
        "colab": {}
      },
      "source": [
        ""
      ],
      "execution_count": 0,
      "outputs": []
    }
  ]
}